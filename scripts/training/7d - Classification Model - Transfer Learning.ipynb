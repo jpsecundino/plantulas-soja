{
 "cells": [
  {
   "cell_type": "markdown",
   "metadata": {},
   "source": [
    "# Creating dataset"
   ]
  },
  {
   "cell_type": "markdown",
   "metadata": {},
   "source": [
    "# Creating classification model\n",
    "##### Following this tutorial\n",
    "       www.youtube.com/watch?v=WvoLTXIjBYU\n",
    "##### Characteristics\n",
    " - Sequencial Model\n",
    " - Fully trained on this dataset"
   ]
  },
  {
   "cell_type": "code",
   "execution_count": 1,
   "metadata": {},
   "outputs": [
    {
     "name": "stdout",
     "output_type": "stream",
     "text": [
      "2.4.3\n"
     ]
    }
   ],
   "source": [
    "import tensorflow as tf\n",
    "from tensorflow.keras.models import Sequential\n",
    "from tensorflow.keras.layers import Dense, Dropout, Activation, Flatten, Conv2D, MaxPooling2D\n",
    "import keras\n",
    "import os\n",
    "import pickle\n",
    "import numpy as np\n",
    "import matplotlib.pyplot as plt\n",
    "import os\n",
    "import cv2\n",
    "print(keras.__version__)"
   ]
  },
  {
   "cell_type": "code",
   "execution_count": 26,
   "metadata": {},
   "outputs": [],
   "source": [
    "DATASET_PATH = '../../datasets/Classification/Dataset - 7 dias'\n",
    "CATEGORIES = [\"Normal\", \"Anormal\", \"Morta\"]"
   ]
  },
  {
   "cell_type": "code",
   "execution_count": 27,
   "metadata": {},
   "outputs": [
    {
     "name": "stdout",
     "output_type": "stream",
     "text": [
      "1184\n"
     ]
    }
   ],
   "source": [
    "images_raw = open(os.path.join(DATASET_PATH, \"7_days_images.pickle\" ), \"rb\")\n",
    "images = pickle.load(images_raw)\n",
    "\n",
    "labels_raw = open(os.path.join(DATASET_PATH, \"7_days_labels.pickle\" ), \"rb\")\n",
    "labels = pickle.load(labels_raw)\n",
    "\n",
    "#reshape images\n",
    "IMG_SIZE = 256\n",
    "\n",
    "print(len(images))"
   ]
  },
  {
   "cell_type": "markdown",
   "metadata": {},
   "source": [
    "###### Train Test split"
   ]
  },
  {
   "cell_type": "code",
   "execution_count": 28,
   "metadata": {},
   "outputs": [],
   "source": [
    "images = np.array(images)\n",
    "\n",
    "from sklearn.model_selection import train_test_split\n",
    "\n",
    "train_images, test_images, train_labels, test_labels = train_test_split(images, labels, test_size=0.2, stratify=labels)"
   ]
  },
  {
   "cell_type": "code",
   "execution_count": 5,
   "metadata": {},
   "outputs": [
    {
     "name": "stdout",
     "output_type": "stream",
     "text": [
      "In training:\n",
      "Class 0: 78.99%\n",
      "Class 1: 17.0%\n",
      "Class 2: 4.01%\n",
      "In test:\n",
      "Class 0: 78.9%\n",
      "Class 1: 16.88%\n",
      "Class 2: 4.22%\n"
     ]
    }
   ],
   "source": [
    "print(\"In training:\")\n",
    "for i in range(0,3):\n",
    "    print(f'Class {i}: {round(100 * np.count_nonzero(np.array(train_labels) == i) / len(train_labels), 2)}%')\n",
    "print(\"In test:\")\n",
    "for i in range(0,3):\n",
    "    print(f'Class {i}: {round(100 * np.count_nonzero(np.array(test_labels) == i) / len(test_labels), 2)}%')\n",
    "    \n",
    "# print(\"Proporção entre classes:\")"
   ]
  },
  {
   "cell_type": "markdown",
   "metadata": {},
   "source": [
    "#### Ajustando o dataset desbalanceado"
   ]
  },
  {
   "cell_type": "markdown",
   "metadata": {},
   "source": [
    "###### Data augmentation -> data generator"
   ]
  },
  {
   "cell_type": "code",
   "execution_count": 6,
   "metadata": {},
   "outputs": [],
   "source": [
    "# data augmentation with ImageDataGenerator -> did not go well\n",
    "# from keras.preprocessing.image import ImageDataGenerator\n",
    "# datagen = ImageDataGenerator(\n",
    "#     featurewise_center=True,\n",
    "#     featurewise_std_normalization=False,\n",
    "#     rotation_range=20,\n",
    "#     width_shift_range=0.2,\n",
    "#     height_shift_range=0.2,\n",
    "#     horizontal_flip=True,\n",
    "#     validation_split=0.25\n",
    "# )\n",
    "# datagen.fit(train_images)\n",
    "\n",
    "# # it = datagen.flow(train_images, batch_size=1, save_to_dir=\"test\", shuffle= True)\n",
    "\n",
    "# # # generate samples and plot\n",
    "# # for i in range(50):\n",
    "# #      # generate batch of images\n",
    "# #     batch = it.next()\n",
    "# #     # convert to unsigned integers for viewing\n",
    "# #     image = batch[0].astype('uint8')\n",
    "# #     # plot raw pixel data\n",
    "# #     plt.imshow(image, cmap=\"gray\")\n",
    "# #     plt.show()\n",
    "# # show the figure"
   ]
  },
  {
   "cell_type": "markdown",
   "metadata": {},
   "source": [
    "###### Weighted Classes "
   ]
  },
  {
   "cell_type": "code",
   "execution_count": 7,
   "metadata": {},
   "outputs": [],
   "source": [
    "## Trying class weights\n",
    "#it does not work withone hot encoded data\n",
    "# from sklearn.utils import class_weight\n",
    "# class_weights = class_weight.compute_class_weight('balanced',\n",
    "#                                                  np.unique(train_labels),\n",
    "#                                                  train_labels)\n",
    "\n",
    "# from sklearn.utils import compute_sample_weight\n",
    "# sample_weights = compute_sample_weight('balanced', train_labels)  #->>>> remember to add the weights in model.fit\n"
   ]
  },
  {
   "cell_type": "markdown",
   "metadata": {},
   "source": [
    "###### SMOTE"
   ]
  },
  {
   "cell_type": "code",
   "execution_count": 8,
   "metadata": {},
   "outputs": [],
   "source": [
    "# classes, counts = np.unique(train_labels, return_counts=True)\n",
    "# print(f\"The number of elements for each class in training now are\\nClass 0: {counts[0]}\\nClass 1 {counts[1]}\\nClass 2 {counts[2]}\\n\")"
   ]
  },
  {
   "cell_type": "code",
   "execution_count": 9,
   "metadata": {},
   "outputs": [],
   "source": [
    "# from imblearn.over_sampling import SMOTE\n",
    "# sm = SMOTE(random_state=42)\n",
    "\n",
    "# train_images_shape = train_images.shape\n",
    "# train_images = train_images.reshape((train_images_shape[0], IMG_SIZE * IMG_SIZE * 3))\n",
    "# train_images, train_labels = sm.fit_resample(train_images, train_labels)\n"
   ]
  },
  {
   "cell_type": "code",
   "execution_count": 10,
   "metadata": {},
   "outputs": [],
   "source": [
    "# train_images_shape = train_images.shape\n",
    "# train_images = train_images.reshape((train_images_shape[0], IMG_SIZE, IMG_SIZE, 3))\n"
   ]
  },
  {
   "cell_type": "code",
   "execution_count": 11,
   "metadata": {},
   "outputs": [],
   "source": [
    "# classes, counts = np.unique(train_labels, return_counts=True)\n",
    "# print(f\"The number of elements for each class in training now are\\nClass 0: {counts[0]}\\nClass 1 {counts[1]}\\nClass 2 {counts[2]}\\n\")"
   ]
  },
  {
   "cell_type": "markdown",
   "metadata": {},
   "source": [
    "##### One hot label encoding"
   ]
  },
  {
   "cell_type": "code",
   "execution_count": 29,
   "metadata": {},
   "outputs": [],
   "source": [
    "import pandas as pd\n",
    "train_labels = pd.get_dummies(train_labels)\n",
    "train_labels = pd.DataFrame.to_numpy(train_labels)\n",
    "\n",
    "test_labels_1d = test_labels\n",
    "\n",
    "test_labels = pd.get_dummies(test_labels)\n",
    "test_labels = pd.DataFrame.to_numpy(test_labels)"
   ]
  },
  {
   "cell_type": "markdown",
   "metadata": {},
   "source": [
    "##### Normalizing training images"
   ]
  },
  {
   "cell_type": "code",
   "execution_count": 30,
   "metadata": {},
   "outputs": [],
   "source": [
    "# train_images = tf.keras.utils.normalize(train_images, axis=0, order=2)"
   ]
  },
  {
   "cell_type": "code",
   "execution_count": 31,
   "metadata": {},
   "outputs": [
    {
     "data": {
      "text/plain": [
       "(256, 256, 3)"
      ]
     },
     "execution_count": 31,
     "metadata": {},
     "output_type": "execute_result"
    }
   ],
   "source": [
    "train_images[0].shape"
   ]
  },
  {
   "cell_type": "markdown",
   "metadata": {},
   "source": [
    "### Creating the model\n"
   ]
  },
  {
   "cell_type": "code",
   "execution_count": 32,
   "metadata": {},
   "outputs": [],
   "source": [
    "EPOCHS = 15\n",
    "TRAIN_TEST_SPLIT = 0.25\n",
    "BATCH_SIZE = 32\n",
    "# print((1 - TRAIN_TEST_SPLIT) * train_images.shape[0],BATCH_SIZE)"
   ]
  },
  {
   "cell_type": "code",
   "execution_count": 33,
   "metadata": {},
   "outputs": [],
   "source": [
    "base_model = keras.applications.Xception(\n",
    "    weights='imagenet',  # Load weights pre-trained on ImageNet.\n",
    "    input_shape=(IMG_SIZE, IMG_SIZE, 3),\n",
    "    include_top=False\n",
    ")\n",
    "\n",
    "base_model.trainable = False\n",
    "\n",
    "inputs = keras.Input(shape=(IMG_SIZE,IMG_SIZE, 3))\n",
    "# We make sure that the base_model is running in inference mode here,\n",
    "# by passing `training=False`. This is important for fine-tuning, as you will\n",
    "# learn in a few paragraphs.\n",
    "x = base_model(inputs)\n",
    "# Convert features of shape `base_model.output_shape[1:]` to vectors\n",
    "x = keras.layers.GlobalAveragePooling2D()(x)\n",
    "# A Dense classifier \n",
    "outputs = keras.layers.Dense(3, activation=\"sigmoid\")(x)\n",
    "\n",
    "model = keras.Model(inputs, outputs)\n",
    "\n",
    "my_metrics = [\"accuracy\",\n",
    "           tf.keras.metrics.Precision(),\n",
    "           tf.keras.metrics.Recall(),\n",
    "           tf.keras.metrics.AUC(),\n",
    "           tf.keras.metrics.TruePositives(),\n",
    "           tf.keras.metrics.TrueNegatives(),\n",
    "           tf.keras.metrics.FalsePositives(),\n",
    "           tf.keras.metrics.FalseNegatives(),]\n",
    "\n",
    "opt = keras.optimizers.Adam(learning_rate=0.00001)\n",
    "model.compile(loss=\"categorical_crossentropy\", optimizer=opt, metrics=my_metrics)\n",
    "\n"
   ]
  },
  {
   "cell_type": "code",
   "execution_count": 39,
   "metadata": {},
   "outputs": [
    {
     "name": "stdout",
     "output_type": "stream",
     "text": [
      "2.4.3\n"
     ]
    }
   ],
   "source": [
    "from keras.callbacks import ModelCheckpoint\n",
    "print(keras.__version__)\n",
    "METRICDIR = './metricas/classificacao/3_d/smote_transfer_learning/'\n",
    "MODELDIR = os.path.join(METRICDIR, \"model\")\n",
    "CHECKPOINT_DIR = os.path.join(MODELDIR, \"best_checkpoint\")\n",
    "checkpoint = ModelCheckpoint(CHECKPOINT_DIR, monitor=\"val_precision_1\", verbose=1,\n",
    "    save_best_only=True, mode='max', save_freq='epoch')"
   ]
  },
  {
   "cell_type": "code",
   "execution_count": 40,
   "metadata": {},
   "outputs": [
    {
     "name": "stdout",
     "output_type": "stream",
     "text": [
      "Epoch 1/15\n",
      "23/23 [==============================] - 84s 4s/step - loss: 1.7921 - accuracy: 0.3634 - precision_1: 0.3687 - recall_1: 0.7141 - auc_1: 0.5783 - true_positives_1: 507.0000 - true_negatives_1: 552.0000 - false_positives_1: 868.0000 - false_negatives_1: 203.0000 - val_loss: 1.7496 - val_accuracy: 0.3755 - val_precision_1: 0.3912 - val_recall_1: 0.7511 - val_auc_1: 0.6076 - val_true_positives_1: 178.0000 - val_true_negatives_1: 197.0000 - val_false_positives_1: 277.0000 - val_false_negatives_1: 59.0000\n",
      "\n",
      "Epoch 00001: val_precision_1 improved from -inf to 0.39121, saving model to ./metricas/classificacao/3_d/smote_transfer_learning/model/best_checkpoint\n",
      "INFO:tensorflow:Assets written to: ./metricas/classificacao/3_d/smote_transfer_learning/model/best_checkpoint/assets\n",
      "Epoch 2/15\n",
      "23/23 [==============================] - 103s 5s/step - loss: 1.5970 - accuracy: 0.4056 - precision_1: 0.3902 - recall_1: 0.7437 - auc_1: 0.6165 - true_positives_1: 528.0000 - true_negatives_1: 595.0000 - false_positives_1: 825.0000 - false_negatives_1: 182.0000 - val_loss: 1.5822 - val_accuracy: 0.4346 - val_precision_1: 0.4084 - val_recall_1: 0.7806 - val_auc_1: 0.6415 - val_true_positives_1: 185.0000 - val_true_negatives_1: 206.0000 - val_false_positives_1: 268.0000 - val_false_negatives_1: 52.0000\n",
      "\n",
      "Epoch 00002: val_precision_1 improved from 0.39121 to 0.40839, saving model to ./metricas/classificacao/3_d/smote_transfer_learning/model/best_checkpoint\n",
      "INFO:tensorflow:Assets written to: ./metricas/classificacao/3_d/smote_transfer_learning/model/best_checkpoint/assets\n",
      "Epoch 3/15\n",
      "23/23 [==============================] - 123s 5s/step - loss: 1.4293 - accuracy: 0.4380 - precision_1: 0.4152 - recall_1: 0.7859 - auc_1: 0.6516 - true_positives_1: 558.0000 - true_negatives_1: 634.0000 - false_positives_1: 786.0000 - false_negatives_1: 152.0000 - val_loss: 1.4437 - val_accuracy: 0.4684 - val_precision_1: 0.4244 - val_recall_1: 0.7932 - val_auc_1: 0.6699 - val_true_positives_1: 188.0000 - val_true_negatives_1: 219.0000 - val_false_positives_1: 255.0000 - val_false_negatives_1: 49.0000\n",
      "\n",
      "Epoch 00003: val_precision_1 improved from 0.40839 to 0.42438, saving model to ./metricas/classificacao/3_d/smote_transfer_learning/model/best_checkpoint\n",
      "INFO:tensorflow:Assets written to: ./metricas/classificacao/3_d/smote_transfer_learning/model/best_checkpoint/assets\n",
      "Epoch 4/15\n",
      "23/23 [==============================] - 124s 5s/step - loss: 1.2888 - accuracy: 0.4901 - precision_1: 0.4304 - recall_1: 0.8056 - auc_1: 0.6818 - true_positives_1: 572.0000 - true_negatives_1: 663.0000 - false_positives_1: 757.0000 - false_negatives_1: 138.0000 - val_loss: 1.3276 - val_accuracy: 0.4937 - val_precision_1: 0.4364 - val_recall_1: 0.8101 - val_auc_1: 0.6959 - val_true_positives_1: 192.0000 - val_true_negatives_1: 226.0000 - val_false_positives_1: 248.0000 - val_false_negatives_1: 45.0000\n",
      "\n",
      "Epoch 00004: val_precision_1 improved from 0.42438 to 0.43636, saving model to ./metricas/classificacao/3_d/smote_transfer_learning/model/best_checkpoint\n",
      "INFO:tensorflow:Assets written to: ./metricas/classificacao/3_d/smote_transfer_learning/model/best_checkpoint/assets\n",
      "Epoch 5/15\n",
      "23/23 [==============================] - 98s 4s/step - loss: 1.1783 - accuracy: 0.5352 - precision_1: 0.4465 - recall_1: 0.8338 - auc_1: 0.7091 - true_positives_1: 592.0000 - true_negatives_1: 686.0000 - false_positives_1: 734.0000 - false_negatives_1: 118.0000 - val_loss: 1.2285 - val_accuracy: 0.5401 - val_precision_1: 0.4541 - val_recall_1: 0.8354 - val_auc_1: 0.7168 - val_true_positives_1: 198.0000 - val_true_negatives_1: 236.0000 - val_false_positives_1: 238.0000 - val_false_negatives_1: 39.0000\n",
      "\n",
      "Epoch 00005: val_precision_1 improved from 0.43636 to 0.45413, saving model to ./metricas/classificacao/3_d/smote_transfer_learning/model/best_checkpoint\n",
      "INFO:tensorflow:Assets written to: ./metricas/classificacao/3_d/smote_transfer_learning/model/best_checkpoint/assets\n",
      "Epoch 6/15\n",
      "23/23 [==============================] - 111s 5s/step - loss: 1.0836 - accuracy: 0.5732 - precision_1: 0.4634 - recall_1: 0.8479 - auc_1: 0.7320 - true_positives_1: 602.0000 - true_negatives_1: 723.0000 - false_positives_1: 697.0000 - false_negatives_1: 108.0000 - val_loss: 1.1442 - val_accuracy: 0.5823 - val_precision_1: 0.4687 - val_recall_1: 0.8523 - val_auc_1: 0.7374 - val_true_positives_1: 202.0000 - val_true_negatives_1: 245.0000 - val_false_positives_1: 229.0000 - val_false_negatives_1: 35.0000\n",
      "\n",
      "Epoch 00006: val_precision_1 improved from 0.45413 to 0.46868, saving model to ./metricas/classificacao/3_d/smote_transfer_learning/model/best_checkpoint\n",
      "INFO:tensorflow:Assets written to: ./metricas/classificacao/3_d/smote_transfer_learning/model/best_checkpoint/assets\n",
      "Epoch 7/15\n",
      "23/23 [==============================] - 80s 4s/step - loss: 1.0041 - accuracy: 0.6197 - precision_1: 0.4804 - recall_1: 0.8648 - auc_1: 0.7527 - true_positives_1: 614.0000 - true_negatives_1: 756.0000 - false_positives_1: 664.0000 - false_negatives_1: 96.0000 - val_loss: 1.0720 - val_accuracy: 0.6160 - val_precision_1: 0.4835 - val_recall_1: 0.8650 - val_auc_1: 0.7554 - val_true_positives_1: 205.0000 - val_true_negatives_1: 255.0000 - val_false_positives_1: 219.0000 - val_false_negatives_1: 32.0000\n",
      "\n",
      "Epoch 00007: val_precision_1 improved from 0.46868 to 0.48349, saving model to ./metricas/classificacao/3_d/smote_transfer_learning/model/best_checkpoint\n",
      "INFO:tensorflow:Assets written to: ./metricas/classificacao/3_d/smote_transfer_learning/model/best_checkpoint/assets\n",
      "Epoch 8/15\n",
      "23/23 [==============================] - 78s 3s/step - loss: 0.9376 - accuracy: 0.6521 - precision_1: 0.4893 - recall_1: 0.8704 - auc_1: 0.7703 - true_positives_1: 618.0000 - true_negatives_1: 775.0000 - false_positives_1: 645.0000 - false_negatives_1: 92.0000 - val_loss: 1.0116 - val_accuracy: 0.6329 - val_precision_1: 0.4906 - val_recall_1: 0.8819 - val_auc_1: 0.7705 - val_true_positives_1: 209.0000 - val_true_negatives_1: 257.0000 - val_false_positives_1: 217.0000 - val_false_negatives_1: 28.0000\n",
      "\n",
      "Epoch 00008: val_precision_1 improved from 0.48349 to 0.49061, saving model to ./metricas/classificacao/3_d/smote_transfer_learning/model/best_checkpoint\n",
      "INFO:tensorflow:Assets written to: ./metricas/classificacao/3_d/smote_transfer_learning/model/best_checkpoint/assets\n",
      "Epoch 9/15\n",
      "23/23 [==============================] - 77s 3s/step - loss: 0.8817 - accuracy: 0.6732 - precision_1: 0.4980 - recall_1: 0.8831 - auc_1: 0.7859 - true_positives_1: 627.0000 - true_negatives_1: 788.0000 - false_positives_1: 632.0000 - false_negatives_1: 83.0000 - val_loss: 0.9543 - val_accuracy: 0.6498 - val_precision_1: 0.5048 - val_recall_1: 0.8945 - val_auc_1: 0.7852 - val_true_positives_1: 212.0000 - val_true_negatives_1: 266.0000 - val_false_positives_1: 208.0000 - val_false_negatives_1: 25.0000\n",
      "\n",
      "Epoch 00009: val_precision_1 improved from 0.49061 to 0.50476, saving model to ./metricas/classificacao/3_d/smote_transfer_learning/model/best_checkpoint\n",
      "INFO:tensorflow:Assets written to: ./metricas/classificacao/3_d/smote_transfer_learning/model/best_checkpoint/assets\n",
      "Epoch 10/15\n",
      "23/23 [==============================] - 64s 3s/step - loss: 0.8307 - accuracy: 0.6986 - precision_1: 0.5060 - recall_1: 0.8845 - auc_1: 0.7986 - true_positives_1: 628.0000 - true_negatives_1: 807.0000 - false_positives_1: 613.0000 - false_negatives_1: 82.0000 - val_loss: 0.9040 - val_accuracy: 0.6667 - val_precision_1: 0.5144 - val_recall_1: 0.9030 - val_auc_1: 0.7961 - val_true_positives_1: 214.0000 - val_true_negatives_1: 272.0000 - val_false_positives_1: 202.0000 - val_false_negatives_1: 23.0000\n",
      "\n",
      "Epoch 00010: val_precision_1 improved from 0.50476 to 0.51442, saving model to ./metricas/classificacao/3_d/smote_transfer_learning/model/best_checkpoint\n",
      "INFO:tensorflow:Assets written to: ./metricas/classificacao/3_d/smote_transfer_learning/model/best_checkpoint/assets\n",
      "Epoch 11/15\n",
      "23/23 [==============================] - 60s 3s/step - loss: 0.7833 - accuracy: 0.7338 - precision_1: 0.5175 - recall_1: 0.8972 - auc_1: 0.8108 - true_positives_1: 637.0000 - true_negatives_1: 826.0000 - false_positives_1: 594.0000 - false_negatives_1: 73.0000 - val_loss: 0.8587 - val_accuracy: 0.7004 - val_precision_1: 0.5216 - val_recall_1: 0.9156 - val_auc_1: 0.8077 - val_true_positives_1: 217.0000 - val_true_negatives_1: 275.0000 - val_false_positives_1: 199.0000 - val_false_negatives_1: 20.0000\n"
     ]
    },
    {
     "name": "stdout",
     "output_type": "stream",
     "text": [
      "\n",
      "Epoch 00011: val_precision_1 improved from 0.51442 to 0.52163, saving model to ./metricas/classificacao/3_d/smote_transfer_learning/model/best_checkpoint\n",
      "INFO:tensorflow:Assets written to: ./metricas/classificacao/3_d/smote_transfer_learning/model/best_checkpoint/assets\n",
      "Epoch 12/15\n",
      "23/23 [==============================] - 73s 3s/step - loss: 0.7413 - accuracy: 0.7507 - precision_1: 0.5301 - recall_1: 0.9056 - auc_1: 0.8210 - true_positives_1: 643.0000 - true_negatives_1: 850.0000 - false_positives_1: 570.0000 - false_negatives_1: 67.0000 - val_loss: 0.8175 - val_accuracy: 0.7131 - val_precision_1: 0.5301 - val_recall_1: 0.9283 - val_auc_1: 0.8172 - val_true_positives_1: 220.0000 - val_true_negatives_1: 279.0000 - val_false_positives_1: 195.0000 - val_false_negatives_1: 17.0000\n",
      "\n",
      "Epoch 00012: val_precision_1 improved from 0.52163 to 0.53012, saving model to ./metricas/classificacao/3_d/smote_transfer_learning/model/best_checkpoint\n",
      "INFO:tensorflow:Assets written to: ./metricas/classificacao/3_d/smote_transfer_learning/model/best_checkpoint/assets\n",
      "Epoch 13/15\n",
      "23/23 [==============================] - 66s 3s/step - loss: 0.7032 - accuracy: 0.7606 - precision_1: 0.5414 - recall_1: 0.9127 - auc_1: 0.8301 - true_positives_1: 648.0000 - true_negatives_1: 871.0000 - false_positives_1: 549.0000 - false_negatives_1: 62.0000 - val_loss: 0.7843 - val_accuracy: 0.7215 - val_precision_1: 0.5353 - val_recall_1: 0.9283 - val_auc_1: 0.8255 - val_true_positives_1: 220.0000 - val_true_negatives_1: 283.0000 - val_false_positives_1: 191.0000 - val_false_negatives_1: 17.0000\n",
      "\n",
      "Epoch 00013: val_precision_1 improved from 0.53012 to 0.53528, saving model to ./metricas/classificacao/3_d/smote_transfer_learning/model/best_checkpoint\n",
      "INFO:tensorflow:Assets written to: ./metricas/classificacao/3_d/smote_transfer_learning/model/best_checkpoint/assets\n",
      "Epoch 14/15\n",
      "23/23 [==============================] - 62s 3s/step - loss: 0.6690 - accuracy: 0.7732 - precision_1: 0.5478 - recall_1: 0.9197 - auc_1: 0.8377 - true_positives_1: 653.0000 - true_negatives_1: 881.0000 - false_positives_1: 539.0000 - false_negatives_1: 57.0000 - val_loss: 0.7542 - val_accuracy: 0.7257 - val_precision_1: 0.5443 - val_recall_1: 0.9325 - val_auc_1: 0.8332 - val_true_positives_1: 221.0000 - val_true_negatives_1: 289.0000 - val_false_positives_1: 185.0000 - val_false_negatives_1: 16.0000\n",
      "\n",
      "Epoch 00014: val_precision_1 improved from 0.53528 to 0.54433, saving model to ./metricas/classificacao/3_d/smote_transfer_learning/model/best_checkpoint\n",
      "INFO:tensorflow:Assets written to: ./metricas/classificacao/3_d/smote_transfer_learning/model/best_checkpoint/assets\n",
      "Epoch 15/15\n",
      "23/23 [==============================] - 76s 3s/step - loss: 0.6381 - accuracy: 0.7803 - precision_1: 0.5581 - recall_1: 0.9268 - auc_1: 0.8449 - true_positives_1: 658.0000 - true_negatives_1: 899.0000 - false_positives_1: 521.0000 - false_negatives_1: 52.0000 - val_loss: 0.7271 - val_accuracy: 0.7511 - val_precision_1: 0.5522 - val_recall_1: 0.9367 - val_auc_1: 0.8406 - val_true_positives_1: 222.0000 - val_true_negatives_1: 294.0000 - val_false_positives_1: 180.0000 - val_false_negatives_1: 15.0000\n",
      "\n",
      "Epoch 00015: val_precision_1 improved from 0.54433 to 0.55224, saving model to ./metricas/classificacao/3_d/smote_transfer_learning/model/best_checkpoint\n",
      "INFO:tensorflow:Assets written to: ./metricas/classificacao/3_d/smote_transfer_learning/model/best_checkpoint/assets\n"
     ]
    }
   ],
   "source": [
    "history = model.fit(train_images, train_labels, batch_size = BATCH_SIZE, epochs = EPOCHS, validation_split=TRAIN_TEST_SPLIT, callbacks=[checkpoint])"
   ]
  },
  {
   "cell_type": "markdown",
   "metadata": {},
   "source": [
    "##### Loading the best model for testing"
   ]
  },
  {
   "cell_type": "code",
   "execution_count": 41,
   "metadata": {},
   "outputs": [],
   "source": [
    "model = keras.models.load_model(CHECKPOINT_DIR)"
   ]
  },
  {
   "cell_type": "markdown",
   "metadata": {},
   "source": [
    "##### Testing the model"
   ]
  },
  {
   "cell_type": "code",
   "execution_count": 49,
   "metadata": {},
   "outputs": [
    {
     "name": "stdout",
     "output_type": "stream",
     "text": [
      "[0, 0, 0, 1, 0, 0, 0, 0, 0, 0, 0, 0, 2, 1, 0, 0, 0, 0, 0, 0, 1, 0, 2, 0, 0, 0, 0, 1, 0, 0, 0, 1, 0, 0, 0, 0, 2, 0, 0, 0, 0, 0, 1, 0, 0, 0, 1, 0, 0, 1, 0, 0, 0, 0, 0, 1, 0, 0, 0, 0, 0, 0, 0, 0, 0, 0, 0, 1, 1, 1, 0, 0, 1, 0, 1, 0, 0, 1, 1, 2, 0, 1, 0, 0, 0, 0, 0, 1, 0, 0, 0, 0, 1, 0, 0, 1, 1, 0, 0, 0, 0, 0, 0, 0, 0, 0, 1, 0, 0, 1, 0, 0, 0, 0, 0, 0, 1, 0, 1, 2, 1, 0, 0, 0, 2, 0, 0, 1, 0, 0, 0, 0, 1, 0, 0, 0, 0, 0, 0, 0, 0, 1, 0, 0, 0, 0, 0, 0, 0, 0, 1, 0, 1, 0, 0, 0, 0, 0, 0, 0, 0, 2, 0, 0, 0, 0, 0, 0, 0, 0, 0, 2, 0, 0, 0, 2, 0, 0, 0, 0, 0, 0, 0, 0, 0, 0, 1, 0, 0, 1, 0, 0, 0, 0, 0, 0, 1, 0, 0, 0, 0, 0, 0, 2, 1, 1, 0, 0, 0, 0, 0, 1, 0, 0, 0, 0, 0, 0, 1, 0, 1, 0, 0, 0, 1, 0, 0, 0, 0, 0, 0, 0, 0, 0, 0, 0, 0]\n",
      "[[1 0 0]\n",
      " [1 0 0]\n",
      " [1 0 0]\n",
      " [0 1 0]\n",
      " [1 0 0]\n",
      " [1 0 0]\n",
      " [1 0 0]\n",
      " [1 0 0]\n",
      " [1 0 0]\n",
      " [1 0 0]\n",
      " [1 0 0]\n",
      " [1 0 0]\n",
      " [0 0 1]\n",
      " [0 1 0]\n",
      " [1 0 0]\n",
      " [1 0 0]\n",
      " [1 0 0]\n",
      " [1 0 0]\n",
      " [1 0 0]\n",
      " [1 0 0]\n",
      " [0 1 0]\n",
      " [1 0 0]\n",
      " [0 0 1]\n",
      " [1 0 0]\n",
      " [1 0 0]\n",
      " [1 0 0]\n",
      " [1 0 0]\n",
      " [0 1 0]\n",
      " [1 0 0]\n",
      " [1 0 0]\n",
      " [1 0 0]\n",
      " [0 1 0]\n",
      " [1 0 0]\n",
      " [1 0 0]\n",
      " [1 0 0]\n",
      " [1 0 0]\n",
      " [0 0 1]\n",
      " [1 0 0]\n",
      " [1 0 0]\n",
      " [1 0 0]\n",
      " [1 0 0]\n",
      " [1 0 0]\n",
      " [0 1 0]\n",
      " [1 0 0]\n",
      " [1 0 0]\n",
      " [1 0 0]\n",
      " [0 1 0]\n",
      " [1 0 0]\n",
      " [1 0 0]\n",
      " [0 1 0]\n",
      " [1 0 0]\n",
      " [1 0 0]\n",
      " [1 0 0]\n",
      " [1 0 0]\n",
      " [1 0 0]\n",
      " [0 1 0]\n",
      " [1 0 0]\n",
      " [1 0 0]\n",
      " [1 0 0]\n",
      " [1 0 0]\n",
      " [1 0 0]\n",
      " [1 0 0]\n",
      " [1 0 0]\n",
      " [1 0 0]\n",
      " [1 0 0]\n",
      " [1 0 0]\n",
      " [1 0 0]\n",
      " [0 1 0]\n",
      " [0 1 0]\n",
      " [0 1 0]\n",
      " [1 0 0]\n",
      " [1 0 0]\n",
      " [0 1 0]\n",
      " [1 0 0]\n",
      " [0 1 0]\n",
      " [1 0 0]\n",
      " [1 0 0]\n",
      " [0 1 0]\n",
      " [0 1 0]\n",
      " [0 0 1]\n",
      " [1 0 0]\n",
      " [0 1 0]\n",
      " [1 0 0]\n",
      " [1 0 0]\n",
      " [1 0 0]\n",
      " [1 0 0]\n",
      " [1 0 0]\n",
      " [0 1 0]\n",
      " [1 0 0]\n",
      " [1 0 0]\n",
      " [1 0 0]\n",
      " [1 0 0]\n",
      " [0 1 0]\n",
      " [1 0 0]\n",
      " [1 0 0]\n",
      " [0 1 0]\n",
      " [0 1 0]\n",
      " [1 0 0]\n",
      " [1 0 0]\n",
      " [1 0 0]\n",
      " [1 0 0]\n",
      " [1 0 0]\n",
      " [1 0 0]\n",
      " [1 0 0]\n",
      " [1 0 0]\n",
      " [1 0 0]\n",
      " [0 1 0]\n",
      " [1 0 0]\n",
      " [1 0 0]\n",
      " [0 1 0]\n",
      " [1 0 0]\n",
      " [1 0 0]\n",
      " [1 0 0]\n",
      " [1 0 0]\n",
      " [1 0 0]\n",
      " [1 0 0]\n",
      " [0 1 0]\n",
      " [1 0 0]\n",
      " [0 1 0]\n",
      " [0 0 1]\n",
      " [0 1 0]\n",
      " [1 0 0]\n",
      " [1 0 0]\n",
      " [1 0 0]\n",
      " [0 0 1]\n",
      " [1 0 0]\n",
      " [1 0 0]\n",
      " [0 1 0]\n",
      " [1 0 0]\n",
      " [1 0 0]\n",
      " [1 0 0]\n",
      " [1 0 0]\n",
      " [0 1 0]\n",
      " [1 0 0]\n",
      " [1 0 0]\n",
      " [1 0 0]\n",
      " [1 0 0]\n",
      " [1 0 0]\n",
      " [1 0 0]\n",
      " [1 0 0]\n",
      " [1 0 0]\n",
      " [0 1 0]\n",
      " [1 0 0]\n",
      " [1 0 0]\n",
      " [1 0 0]\n",
      " [1 0 0]\n",
      " [1 0 0]\n",
      " [1 0 0]\n",
      " [1 0 0]\n",
      " [1 0 0]\n",
      " [0 1 0]\n",
      " [1 0 0]\n",
      " [0 1 0]\n",
      " [1 0 0]\n",
      " [1 0 0]\n",
      " [1 0 0]\n",
      " [1 0 0]\n",
      " [1 0 0]\n",
      " [1 0 0]\n",
      " [1 0 0]\n",
      " [1 0 0]\n",
      " [0 0 1]\n",
      " [1 0 0]\n",
      " [1 0 0]\n",
      " [1 0 0]\n",
      " [1 0 0]\n",
      " [1 0 0]\n",
      " [1 0 0]\n",
      " [1 0 0]\n",
      " [1 0 0]\n",
      " [1 0 0]\n",
      " [0 0 1]\n",
      " [1 0 0]\n",
      " [1 0 0]\n",
      " [1 0 0]\n",
      " [0 0 1]\n",
      " [1 0 0]\n",
      " [1 0 0]\n",
      " [1 0 0]\n",
      " [1 0 0]\n",
      " [1 0 0]\n",
      " [1 0 0]\n",
      " [1 0 0]\n",
      " [1 0 0]\n",
      " [1 0 0]\n",
      " [1 0 0]\n",
      " [0 1 0]\n",
      " [1 0 0]\n",
      " [1 0 0]\n",
      " [0 1 0]\n",
      " [1 0 0]\n",
      " [1 0 0]\n",
      " [1 0 0]\n",
      " [1 0 0]\n",
      " [1 0 0]\n",
      " [1 0 0]\n",
      " [0 1 0]\n",
      " [1 0 0]\n",
      " [1 0 0]\n",
      " [1 0 0]\n",
      " [1 0 0]\n",
      " [1 0 0]\n",
      " [1 0 0]\n",
      " [0 0 1]\n",
      " [0 1 0]\n",
      " [0 1 0]\n",
      " [1 0 0]\n",
      " [1 0 0]\n",
      " [1 0 0]\n",
      " [1 0 0]\n",
      " [1 0 0]\n",
      " [0 1 0]\n",
      " [1 0 0]\n",
      " [1 0 0]\n",
      " [1 0 0]\n",
      " [1 0 0]\n",
      " [1 0 0]\n",
      " [1 0 0]\n",
      " [0 1 0]\n",
      " [1 0 0]\n",
      " [0 1 0]\n",
      " [1 0 0]\n",
      " [1 0 0]\n",
      " [1 0 0]\n",
      " [0 1 0]\n",
      " [1 0 0]\n",
      " [1 0 0]\n",
      " [1 0 0]\n",
      " [1 0 0]\n",
      " [1 0 0]\n",
      " [1 0 0]\n",
      " [1 0 0]\n",
      " [1 0 0]\n",
      " [1 0 0]\n",
      " [1 0 0]\n",
      " [1 0 0]\n",
      " [1 0 0]]\n"
     ]
    }
   ],
   "source": [
    "test_labels_1d = []\n",
    "for label in test_labels:\n",
    "    if (label == [1, 0, 0]).all():\n",
    "        test_labels_1d.append(0)\n",
    "    elif (label == [0, 1, 0]).all():\n",
    "        test_labels_1d.append(1)\n",
    "    else:\n",
    "        test_labels_1d.append(2)"
   ]
  },
  {
   "cell_type": "code",
   "execution_count": 51,
   "metadata": {},
   "outputs": [],
   "source": [
    "prediction = model.predict(test_images, batch_size=1)\n",
    "\n",
    "prediction = tf.argmax(prediction, axis=-1)"
   ]
  },
  {
   "cell_type": "code",
   "execution_count": 52,
   "metadata": {},
   "outputs": [
    {
     "name": "stdout",
     "output_type": "stream",
     "text": [
      "              precision    recall  f1-score   support\n",
      "\n",
      "           0      0.927     0.813     0.866       187\n",
      "           1      0.500     0.625     0.556        40\n",
      "           2      0.391     0.900     0.545        10\n",
      "\n",
      "    accuracy                          0.785       237\n",
      "   macro avg      0.606     0.779     0.656       237\n",
      "weighted avg      0.832     0.785     0.800       237\n",
      "\n"
     ]
    }
   ],
   "source": [
    "from sklearn import metrics\n",
    "print(metrics.classification_report(test_labels_1d, prediction, digits=3))"
   ]
  },
  {
   "cell_type": "code",
   "execution_count": 78,
   "metadata": {},
   "outputs": [
    {
     "data": {
      "image/png": "[encoded data removed]",
      "text/plain": [
       "<Figure size 360x360 with 2 Axes>"
      ]
     },
     "metadata": {},
     "output_type": "display_data"
    }
   ],
   "source": [
    "import seaborn as sn\n",
    "import pandas as pd\n",
    "import matplotlib.pyplot as plt\n",
    "\n",
    "cm = metrics.confusion_matrix(test_labels_1d, prediction)\n",
    "\n",
    "df_cm = pd.DataFrame(cm, ['Normal', 'Anormal', 'Morta'], ['Normal', 'Anormal', 'Morta'])\n",
    "plt.figure(figsize=(5,5))\n",
    "sn.set(font_scale=1.2) # for label size\n",
    "sn.heatmap(df_cm, annot=True, annot_kws={\"size\": 10}) # font size\n",
    "plt.yticks(np.arange(3) + 0.8,('Normal','Anormal','Morta'), rotation=0, fontsize=\"10\", va=\"center\")\n",
    "plt.show()"
   ]
  },
  {
   "cell_type": "markdown",
   "metadata": {},
   "source": [
    "#### Visualizing model data"
   ]
  },
  {
   "cell_type": "code",
   "execution_count": null,
   "metadata": {},
   "outputs": [],
   "source": [
    "import matplotlib.pyplot as plt"
   ]
  },
  {
   "cell_type": "code",
   "execution_count": null,
   "metadata": {},
   "outputs": [],
   "source": [
    "NUM_METRICS = len(my_metrics) + 1\n",
    "\n",
    "SAVE = True\n",
    "\n",
    "def plot_metric(metric_name, chart_name):\n",
    "    plt.plot(history.history[metric_name], label = metric_name + ' (training data)')\n",
    "    plt.plot(history.history['val_' + metric_name], label = metric_name + ' (validation data)')\n",
    "    plt.title(chart_name)\n",
    "    plt.ylabel( metric_name + ' value')\n",
    "    plt.xlabel('No. epoch')\n",
    "    plt.legend(loc=\"upper left\")\n",
    "    if SAVE and not os.path.exists(METRICDIR):\n",
    "        os.mkdir(METRICDIR)\n",
    "    if SAVE:\n",
    "        plt.savefig(os.path.join(METRICDIR, metric_name))\n",
    "    plt.show()\n"
   ]
  },
  {
   "cell_type": "code",
   "execution_count": null,
   "metadata": {
    "scrolled": false
   },
   "outputs": [],
   "source": [
    "for metric in list(history.history.keys())[:NUM_METRICS]:\n",
    "    plot_metric(metric, metric + \" for soybean classification\")\n"
   ]
  },
  {
   "cell_type": "code",
   "execution_count": null,
   "metadata": {},
   "outputs": [],
   "source": []
  },
  {
   "cell_type": "code",
   "execution_count": null,
   "metadata": {},
   "outputs": [],
   "source": []
  }
 ],
 "metadata": {
  "kernelspec": {
   "display_name": "Python 3",
   "language": "python",
   "name": "python3"
  },
  "language_info": {
   "codemirror_mode": {
    "name": "ipython",
    "version": 3
   },
   "file_extension": ".py",
   "mimetype": "text/x-python",
   "name": "python",
   "nbconvert_exporter": "python",
   "pygments_lexer": "ipython3",
   "version": "3.7.7"
  }
 },
 "nbformat": 4,
 "nbformat_minor": 4
}
