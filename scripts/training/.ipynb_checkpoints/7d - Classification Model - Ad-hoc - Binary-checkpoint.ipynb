{
 "cells": [
  {
   "cell_type": "markdown",
   "metadata": {},
   "source": [
    "# Creating dataset"
   ]
  },
  {
   "cell_type": "markdown",
   "metadata": {},
   "source": [
    "# Creating classification model"
   ]
  },
  {
   "cell_type": "code",
   "execution_count": 1,
   "metadata": {},
   "outputs": [],
   "source": [
    "import os\n",
    "import pickle\n",
    "import numpy as np\n",
    "import os\n",
    "import cv2\n",
    "import seaborn as sns\n",
    "import pandas as pd\n",
    "import matplotlib.pyplot as plt\n",
    "from sklearn import metrics"
   ]
  },
  {
   "cell_type": "code",
   "execution_count": 2,
   "metadata": {},
   "outputs": [],
   "source": [
    "DATASET_PATH = '../../datasets/Classification/Dataset - 7 dias'\n",
    "CATEGORIES = [\"Normal\", \"Anormal\", \"Morta\"]"
   ]
  },
  {
   "cell_type": "markdown",
   "metadata": {},
   "source": [
    "##### Read dataset"
   ]
  },
  {
   "cell_type": "code",
   "execution_count": 3,
   "metadata": {},
   "outputs": [],
   "source": [
    "IMG_SIZE = 256\n",
    "\n",
    "def read_dataset():\n",
    "    images_raw = open(os.path.join(DATASET_PATH, \"7_days_images.pickle\" ), \"rb\")\n",
    "    images = pickle.load(images_raw)\n",
    "\n",
    "    labels_raw = open(os.path.join(DATASET_PATH, \"7_days_labels.pickle\" ), \"rb\")\n",
    "    labels = pickle.load(labels_raw)\n",
    "\n",
    "    images = np.array(images)\n",
    "    labels = np.array(labels)\n",
    "    \n",
    "    return images, labels"
   ]
  },
  {
   "cell_type": "markdown",
   "metadata": {},
   "source": [
    "###### Turn it into a binary classification problem"
   ]
  },
  {
   "cell_type": "code",
   "execution_count": 4,
   "metadata": {},
   "outputs": [],
   "source": [
    "def to_binary(labels):\n",
    "    labels[labels == 2] = 1\n",
    "    return labels\n",
    "    "
   ]
  },
  {
   "cell_type": "markdown",
   "metadata": {},
   "source": [
    "###### Train Test split"
   ]
  },
  {
   "cell_type": "code",
   "execution_count": 5,
   "metadata": {},
   "outputs": [],
   "source": [
    "\n",
    "def train_test_split(images, labels):\n",
    "\n",
    "    from sklearn.model_selection import train_test_split\n",
    "\n",
    "    train_images, test_images, train_labels, test_labels = train_test_split(images, labels, test_size=0.1, stratify=labels)\n",
    "    \n",
    "    print(\"In training:\")\n",
    "    for i in range(0,len(np.unique(labels))):\n",
    "        print(f'Class {i}: {round(100 * np.count_nonzero(np.array(train_labels) == i) / len(train_labels), 2)}%')\n",
    "    print(\"In test:\")\n",
    "    for i in range(0,len(np.unique(labels))):\n",
    "        print(f'Class {i}: {round(100 * np.count_nonzero(np.array(test_labels) == i) / len(test_labels), 2)}%')\n",
    "        \n",
    "    return train_images, test_images, train_labels, test_labels"
   ]
  },
  {
   "cell_type": "markdown",
   "metadata": {},
   "source": [
    "#### Ajustando o dataset desbalanceado"
   ]
  },
  {
   "cell_type": "markdown",
   "metadata": {},
   "source": [
    "###### Data augmentation -> data generator"
   ]
  },
  {
   "cell_type": "code",
   "execution_count": 6,
   "metadata": {},
   "outputs": [],
   "source": [
    "# data augmentation with ImageDataGenerator -> did not go well\n",
    "# from keras.preprocessing.image import ImageDataGenerator\n",
    "# datagen = ImageDataGenerator(\n",
    "#     featurewise_center=True,\n",
    "#     featurewise_std_normalization=False,\n",
    "#     rotation_range=20,\n",
    "#     width_shift_range=0.2,\n",
    "#     height_shift_range=0.2,\n",
    "#     horizontal_flip=True,\n",
    "#     validation_split=0.25\n",
    "# )\n",
    "# datagen.fit(train_images)\n",
    "\n",
    "# # it = datagen.flow(train_images, batch_size=1, save_to_dir=\"test\", shuffle= True)\n",
    "\n",
    "# # # generate samples and plot\n",
    "# # for i in range(50):\n",
    "# #      # generate batch of images\n",
    "# #     batch = it.next()\n",
    "# #     # convert to unsigned integers for viewing\n",
    "# #     image = batch[0].astype('uint8')\n",
    "# #     # plot raw pixel data\n",
    "# #     plt.imshow(image, cmap=\"gray\")\n",
    "# #     plt.show()\n",
    "# # show the figure"
   ]
  },
  {
   "cell_type": "markdown",
   "metadata": {},
   "source": [
    "###### Weighted Classes "
   ]
  },
  {
   "cell_type": "code",
   "execution_count": 7,
   "metadata": {},
   "outputs": [],
   "source": [
    "# Trying class weights\n",
    "# it does not work with one hot encoded data\n",
    "# from sklearn.utils import class_weight\n",
    "# class_weights = class_weight.compute_class_weight('balanced',\n",
    "#                                                  np.unique(train_labels),\n",
    "#                                                  train_labels)\n",
    "\n",
    "def get_sample_weights(train_labels):\n",
    "    from sklearn.utils import compute_sample_weight\n",
    "    \n",
    "    return compute_sample_weight('balanced', train_labels)  #->>>> remember to add the weights in model.fit"
   ]
  },
  {
   "cell_type": "markdown",
   "metadata": {},
   "source": [
    "###### SMOTE"
   ]
  },
  {
   "cell_type": "code",
   "execution_count": 8,
   "metadata": {},
   "outputs": [],
   "source": [
    "# classes, counts = np.unique(train_labels, return_counts=True)\n",
    "# print(f\"The number of elements for each class in training now are\\nClass 0: {counts[0]}\\nClass 1 {counts[1]}\\nClass 2 {counts[2]}\\n\")"
   ]
  },
  {
   "cell_type": "code",
   "execution_count": 9,
   "metadata": {},
   "outputs": [],
   "source": [
    "# from imblearn.over_sampling import SMOTE\n",
    "# sm = SMOTE(random_state=42)\n",
    "\n",
    "# train_images_shape = train_images.shape\n",
    "# train_images = train_images.reshape((train_images_shape[0], IMG_SIZE * IMG_SIZE * 3))\n",
    "# train_images, train_labels = sm.fit_resample(train_images, train_labels)\n"
   ]
  },
  {
   "cell_type": "code",
   "execution_count": 10,
   "metadata": {},
   "outputs": [],
   "source": [
    "# train_images_shape = train_images.shape\n",
    "# train_images = train_images.reshape((train_images_shape[0], IMG_SIZE, IMG_SIZE, 3))\n"
   ]
  },
  {
   "cell_type": "code",
   "execution_count": 11,
   "metadata": {},
   "outputs": [],
   "source": [
    "# classes, counts = np.unique(train_labels, return_counts=True)\n",
    "# print(f\"The number of elements for each class in training now are\\nClass 0: {counts[0]}\\nClass 1 {counts[1]}\\nClass 2 {counts[2]}\\n\")"
   ]
  },
  {
   "cell_type": "markdown",
   "metadata": {},
   "source": [
    "##### One hot label encoding"
   ]
  },
  {
   "cell_type": "code",
   "execution_count": 12,
   "metadata": {},
   "outputs": [],
   "source": [
    "def to_one_hot(data):\n",
    "    import pandas as pd\n",
    "    data = pd.get_dummies(data)\n",
    "    data = pd.DataFrame.to_numpy(data)\n",
    "    return data"
   ]
  },
  {
   "cell_type": "markdown",
   "metadata": {},
   "source": [
    "##### Normalizing training images"
   ]
  },
  {
   "cell_type": "code",
   "execution_count": 13,
   "metadata": {},
   "outputs": [],
   "source": [
    "def normalize_images(data):\n",
    "    data = tf.keras.utils.normalize(data, axis=0, order=2)\n",
    "    return data"
   ]
  },
  {
   "cell_type": "markdown",
   "metadata": {},
   "source": [
    "### Creating the model\n"
   ]
  },
  {
   "cell_type": "code",
   "execution_count": 14,
   "metadata": {},
   "outputs": [],
   "source": [
    "import tensorflow as tf\n",
    "from tensorflow.keras.models import Sequential\n",
    "from tensorflow.keras.layers import Dense, Dropout, Activation, Flatten, Conv2D, MaxPooling2D\n",
    "import keras\n",
    "\n",
    "EPOCHS = None\n",
    "TRAIN_TEST_SPLIT = None\n",
    "BATCH_SIZE = None\n",
    "# print((1 - TRAIN_TEST_SPLIT) * train_images.shape[0],BATCH_SIZE)\n",
    "\n",
    "METRICDIR = '../metricas/classificacao/7_d/tests-binary/'\n",
    "MODELDIR = os.path.join(METRICDIR, \"model\")\n",
    "CHECKPOINT_DIR = os.path.join(MODELDIR, \"best_checkpoint\")\n",
    "\n",
    "my_metrics = [\"accuracy\",\n",
    "           tf.keras.metrics.Precision(),\n",
    "           tf.keras.metrics.Recall(),\n",
    "           tf.keras.metrics.AUC(),\n",
    "           tf.keras.metrics.TruePositives(),\n",
    "           tf.keras.metrics.TrueNegatives(),\n",
    "           tf.keras.metrics.FalsePositives(),\n",
    "           tf.keras.metrics.FalseNegatives(),]"
   ]
  },
  {
   "cell_type": "code",
   "execution_count": 15,
   "metadata": {},
   "outputs": [],
   "source": [
    "def create_model():\n",
    "       \n",
    "    base_model = keras.applications.Xception(\n",
    "        weights='imagenet',  # Load weights pre-trained on ImageNet.\n",
    "        input_shape=(IMG_SIZE, IMG_SIZE, 3),\n",
    "        include_top=False\n",
    "    )\n",
    "\n",
    "    base_model.trainable = False\n",
    "\n",
    "    inputs = keras.Input(shape=(IMG_SIZE,IMG_SIZE, 3))\n",
    "    # We make sure that the base_model is running in inference mode here,\n",
    "    # by passing `training=False`. This is important for fine-tuning, as you will\n",
    "    # learn in a few paragraphs.\n",
    "    x = base_model(inputs)\n",
    "    # Convert features of shape `base_model.output_shape[1:]` to vectors\n",
    "    x = keras.layers.GlobalAveragePooling2D()(x)\n",
    "    # A Dense classifier \n",
    "    outputs = keras.layers.Dense(2, activation=\"sigmoid\")(x)\n",
    "\n",
    "    model = keras.Model(inputs, outputs)\n",
    "\n",
    "    opt = keras.optimizers.Adam(learning_rate=0.00001)\n",
    "    # opt = tf.keras.optimizers.Adadelta(learning_rate=0.00001, rho=0.95, epsilon=1e-07, name='Adadelta')\n",
    "\n",
    "    model.compile(loss=\"binary_crossentropy\", optimizer=opt, metrics=my_metrics)\n",
    "    \n",
    "    return model\n",
    "\n",
    "def get_model_name(k):\n",
    "    return '_model_'+str(k)\n",
    "\n",
    "def plot_metric(history,metric_name, chart_name, save_dir, save = False, show = False):\n",
    "    plt.cla() \n",
    "    plt.plot(history.history[metric_name], label = metric_name + ' (training data)')\n",
    "    plt.plot(history.history['val_' + metric_name], label = metric_name + ' (validation data)')\n",
    "    plt.title(chart_name)\n",
    "    plt.ylabel( metric_name + ' value')\n",
    "    plt.xlabel('No. epoch')\n",
    "    plt.legend(loc=\"upper left\")\n",
    "    if save:\n",
    "        plt.savefig(os.path.join(save_dir, metric_name))\n",
    "    if show:\n",
    "        plt.show()"
   ]
  },
  {
   "cell_type": "markdown",
   "metadata": {},
   "source": [
    "##### Evaluation code"
   ]
  },
  {
   "cell_type": "code",
   "execution_count": 16,
   "metadata": {},
   "outputs": [],
   "source": [
    "import seaborn as sns\n",
    "\n",
    "def make_confusion_matrix(cf,\n",
    "                          group_names=None,\n",
    "                          categories='auto',\n",
    "                          count=True,\n",
    "                          percent=True,\n",
    "                          cbar=True,\n",
    "                          xyticks=True,\n",
    "                          xyplotlabels=True,\n",
    "                          sum_stats=True,\n",
    "                          figsize=None,\n",
    "                          cmap='Blues',\n",
    "                          title=None):\n",
    "    \n",
    "    '''\n",
    "    This function will make a pretty plot of an sklearn Confusion Matrix cm using a Seaborn heatmap visualization.\n",
    "    Arguments\n",
    "    ---------\n",
    "    cf:            confusion matrix to be passed in\n",
    "    group_names:   List of strings that represent the labels row by row to be shown in each square.\n",
    "    categories:    List of strings containing the categories to be displayed on the x,y axis. Default is 'auto'\n",
    "    count:         If True, show the raw number in the confusion matrix. Default is True.\n",
    "    normalize:     If True, show the proportions for each category. Default is True.\n",
    "    cbar:          If True, show the color bar. The cbar values are based off the values in the confusion matrix.\n",
    "                   Default is True.\n",
    "    xyticks:       If True, show x and y ticks. Default is True.\n",
    "    xyplotlabels:  If True, show 'True Label' and 'Predicted Label' on the figure. Default is True.\n",
    "    sum_stats:     If True, display summary statistics below the figure. Default is True.\n",
    "    figsize:       Tuple representing the figure size. Default will be the matplotlib rcParams value.\n",
    "    cmap:          Colormap of the values displayed from matplotlib.pyplot.cm. Default is 'Blues'\n",
    "                   See http://matplotlib.org/examples/color/colormaps_reference.html\n",
    "                   \n",
    "    title:         Title for the heatmap. Default is None.\n",
    "    '''\n",
    "\n",
    "    # CODE TO GENERATE TEXT INSIDE EACH SQUARE\n",
    "    blanks = ['' for i in range(cf.size)]\n",
    "\n",
    "    if group_names and len(group_names)==cf.size:\n",
    "        group_labels = [\"{}\\n\".format(value) for value in group_names]\n",
    "    else:\n",
    "        group_labels = blanks\n",
    "\n",
    "    if count:\n",
    "        group_counts = [\"{0:0.0f}\\n\".format(value) for value in cf.flatten()]\n",
    "    else:\n",
    "        group_counts = blanks\n",
    "\n",
    "    if percent:\n",
    "        group_percentages = [\"{0:.2%}\".format(value) for value in cf.flatten()/np.sum(cf)]\n",
    "    else:\n",
    "        group_percentages = blanks\n",
    "\n",
    "    box_labels = [f\"{v1}{v2}{v3}\".strip() for v1, v2, v3 in zip(group_labels,group_counts,group_percentages)]\n",
    "    box_labels = np.asarray(box_labels).reshape(cf.shape[0],cf.shape[1])\n",
    "\n",
    "\n",
    "    # CODE TO GENERATE SUMMARY STATISTICS & TEXT FOR SUMMARY STATS\n",
    "    if sum_stats:\n",
    "        #Accuracy is sum of diagonal divided by total observations\n",
    "        accuracy  = np.trace(cf) / float(np.sum(cf))\n",
    "\n",
    "        #if it is a binary confusion matrix, show some more stats\n",
    "        if len(cf)==2:\n",
    "            #Metrics for Binary Confusion Matrices\n",
    "            precision = cf[1,1] / sum(cf[:,1])\n",
    "            recall    = cf[1,1] / sum(cf[1,:])\n",
    "            f1_score  = 2*precision*recall / (precision + recall)\n",
    "            stats_text = \"\\n\\nAccuracy={:0.3f}\\nPrecision={:0.3f}\\nRecall={:0.3f}\\nF1 Score={:0.3f}\".format(\n",
    "                accuracy,precision,recall,f1_score)\n",
    "        else:\n",
    "            stats_text = \"\\n\\nAccuracy={:0.3f}\".format(accuracy)\n",
    "    else:\n",
    "        stats_text = \"\"\n",
    "\n",
    "\n",
    "    # SET FIGURE PARAMETERS ACCORDING TO OTHER ARGUMENTS\n",
    "    if figsize==None:\n",
    "        #Get default figure size if not set\n",
    "        figsize = plt.rcParams.get('figure.figsize')\n",
    "\n",
    "    if xyticks==False:\n",
    "        #Do not show categories if xyticks is False\n",
    "        categories=False\n",
    "        \n",
    "    # MAKE THE HEATMAP VISUALIZATION\n",
    "    plt.figure(figsize=figsize)\n",
    "    sns.heatmap(cf,annot=box_labels,fmt=\"\",cmap=cmap,cbar=cbar,xticklabels=categories,yticklabels=categories)\n",
    "\n",
    "    if xyplotlabels:\n",
    "        plt.ylabel('True label')\n",
    "        plt.xlabel('Predicted label' + stats_text)\n",
    "    else:\n",
    "        plt.xlabel(stats_text)\n",
    "    \n",
    "    if title:\n",
    "        plt.title(title)\n",
    "        \n",
    "    return plt.gcf()"
   ]
  },
  {
   "cell_type": "markdown",
   "metadata": {},
   "source": [
    "##### Testing the model"
   ]
  },
  {
   "cell_type": "code",
   "execution_count": 17,
   "metadata": {},
   "outputs": [],
   "source": [
    "def one_hot_to_1d(test_labels):\n",
    "    \n",
    "    test_labels_1d = []\n",
    "    \n",
    "    for label in test_labels:\n",
    "        print()\n",
    "        if (label == [1, 0]).all():\n",
    "            test_labels_1d.append(0)\n",
    "        elif (label == [0, 1]).all():\n",
    "            test_labels_1d.append(1)\n",
    "        else:\n",
    "            test_labels_1d.append(2)\n",
    "    \n",
    "    return test_labels_1d\n",
    "    \n",
    "def get_predictions(model,test_images, test_labels):\n",
    "    prediction = model.predict(test_images, batch_size=1)\n",
    "\n",
    "    return tf.argmax(prediction, axis=-1)\n",
    "\n",
    "def get_confusion_matrix(test_labels, prediction):\n",
    "    \n",
    "    test_labels_1d = one_hot_to_1d(test_labels)\n",
    "    \n",
    "    cm = metrics.confusion_matrix(test_labels_1d, prediction)\n",
    "    cm = make_confusion_matrix(cm, figsize=(8,6), cbar=False)\n",
    "    \n",
    "    return cm"
   ]
  },
  {
   "cell_type": "code",
   "execution_count": 18,
   "metadata": {
    "scrolled": true
   },
   "outputs": [],
   "source": [
    "def train_models(train_images, train_labels, num_folds=10):\n",
    "    \n",
    "    from sklearn.model_selection import KFold\n",
    "\n",
    "    kfold = KFold(n_splits=num_folds, shuffle=True)\n",
    "\n",
    "    #metrics containers\n",
    "    acc = []\n",
    "    prec = []\n",
    "    rec = []\n",
    "    auc = []\n",
    "\n",
    "    # K-fold Cross Validation model evaluation\n",
    "    fold_no = 1\n",
    "    for train, test in kfold.split(train_images, train_labels):\n",
    "\n",
    "        from keras.callbacks import ModelCheckpoint, ReduceLROnPlateau, EarlyStopping\n",
    "\n",
    "        if fold_no - 1 == 0:\n",
    "            idx_str = \"\"\n",
    "        else:\n",
    "            idx_str = f\"_{fold_no}\"\n",
    "            \n",
    "        fold_checkpoint = CHECKPOINT_DIR + get_model_name(fold_no)\n",
    "        \n",
    "        if not os.path.exists(fold_checkpoint):\n",
    "            os.mkdir(fold_checkpoint)\n",
    "        \n",
    "        fold_model_path = os.path.join(fold_checkpoint, 'model.h5')\n",
    "        \n",
    "        my_callbacks = [\n",
    "            ModelCheckpoint(fold_model_path, monitor=f\"val_precision\", verbose=1, save_best_only=True, mode='max', save_freq='epoch'),\n",
    "            ReduceLROnPlateau(monitor=f'val_precision', factor=0.2, patience=2, min_lr=0.0000001, mode='max'),\n",
    "        ]\n",
    "\n",
    "        model = create_model()\n",
    "\n",
    "        # Generate a print\n",
    "        print('------------------------------------------------------------------------', end=\"\\n\\n\")\n",
    "        print(f'Training for fold {fold_no} ...')\n",
    "\n",
    "        # Fit data to model\n",
    "        history = model.fit(\n",
    "            train_images[train],\n",
    "            train_labels[train],\n",
    "            batch_size = BATCH_SIZE,\n",
    "            epochs = EPOCHS,\n",
    "            validation_split=TRAIN_TEST_SPLIT,\n",
    "            sample_weight=get_sample_weights(train_labels[train]),\n",
    "            callbacks=[my_callbacks])\n",
    "\n",
    "        predictions = get_predictions(model, train_images[test], train_labels[test])\n",
    "    \n",
    "        cm = get_confusion_matrix(train_labels[test], predictions)\n",
    "        \n",
    "        plt.savefig(os.path.join(fold_checkpoint, \"confusion_matrix\"))\n",
    "        \n",
    "        #visualizing training\n",
    "        NUM_METRICS = len(my_metrics) + 1\n",
    "        for metric in list(history.history.keys())[:NUM_METRICS]:\n",
    "            plot_metric(history, metric, metric + \" for soybean classification\", save_dir=fold_checkpoint, save=True)\n",
    "\n",
    "        model = tf.keras.models.load_model(fold_model_path)\n",
    "\n",
    "        # Generate generalization metrics\n",
    "        scores = model.evaluate(images[test], labels[test], verbose=0)\n",
    "        print(f'Scores for fold {fold_no}:')\n",
    "        for i in range(len(my_metrics)):   \n",
    "            print(f'{model.metrics_names[i]} of {scores[i]}')\n",
    "\n",
    "        acc.append(scores[1])\n",
    "        prec.append(scores[2])\n",
    "        rec.append(scores[3])\n",
    "        auc.append(scores[4])\n",
    "\n",
    "        # Increase fold number\n",
    "        fold_no = fold_no + 1\n",
    "        \n",
    "    return acc, prec, rec, auc"
   ]
  },
  {
   "cell_type": "markdown",
   "metadata": {},
   "source": [
    "##### Training"
   ]
  },
  {
   "cell_type": "code",
   "execution_count": 19,
   "metadata": {},
   "outputs": [],
   "source": [
    "images, labels = read_dataset()\n",
    "\n",
    "# images = normalize_images(images)\n",
    "labels = to_binary(labels)\n",
    "labels = to_one_hot(labels)\n",
    "\n",
    "EPOCHS = 20\n",
    "TRAIN_TEST_SPLIT = 0.25\n",
    "BATCH_SIZE = 32"
   ]
  },
  {
   "cell_type": "code",
   "execution_count": null,
   "metadata": {},
   "outputs": [
    {
     "name": "stdout",
     "output_type": "stream",
     "text": [
      "------------------------------------------------------------------------\n",
      "\n",
      "Training for fold 1 ...\n",
      "Epoch 1/20\n",
      "11/25 [============>.................] - ETA: 30s - loss: 1.2379 - accuracy: 0.3612 - precision: 0.3981 - recall: 0.2322 - auc: 0.3932 - true_positives: 44.5455 - true_negatives: 122.4545 - false_positives: 69.5455 - false_negatives: 147.4545"
     ]
    }
   ],
   "source": [
    "acc, prec, rec, auc = train_models(images, labels)"
   ]
  },
  {
   "cell_type": "markdown",
   "metadata": {},
   "source": [
    "##### Loading the best model for testing"
   ]
  },
  {
   "cell_type": "code",
   "execution_count": null,
   "metadata": {},
   "outputs": [],
   "source": [
    "print(\"Acurácia média: \",np.mean(acc)/100)\n",
    "print(\"Precisão média: \",np.mean(prec))\n",
    "print(\"Recall médio: \",np.mean(rec))\n",
    "print(\"Auc média: \",np.mean(auc))"
   ]
  },
  {
   "cell_type": "markdown",
   "metadata": {},
   "source": [
    "##### Testing the model"
   ]
  },
  {
   "cell_type": "code",
   "execution_count": null,
   "metadata": {},
   "outputs": [],
   "source": [
    "test_labels_1d = []\n",
    "for label in test_labels:\n",
    "    if (label == [1, 0, 0]).all():\n",
    "        test_labels_1d.append(0)\n",
    "    elif (label == [0, 1, 0]).all():\n",
    "        test_labels_1d.append(1)\n",
    "    else:\n",
    "        test_labels_1d.append(2)"
   ]
  },
  {
   "cell_type": "code",
   "execution_count": null,
   "metadata": {},
   "outputs": [],
   "source": [
    "prediction = model.predict(test_images, batch_size=1)\n",
    "\n",
    "prediction = tf.argmax(prediction, axis=-1)"
   ]
  },
  {
   "cell_type": "code",
   "execution_count": null,
   "metadata": {},
   "outputs": [],
   "source": [
    "import numpy as np\n",
    "import matplotlib\n",
    "import seaborn as sns\n",
    "\n",
    "def make_confusion_matrix(cf,\n",
    "                          group_names=None,\n",
    "                          categories='auto',\n",
    "                          count=True,\n",
    "                          percent=True,\n",
    "                          cbar=True,\n",
    "                          xyticks=True,\n",
    "                          xyplotlabels=True,\n",
    "                          sum_stats=True,\n",
    "                          figsize=None,\n",
    "                          cmap='Blues',\n",
    "                          title=None):\n",
    "    \n",
    "    '''\n",
    "    This function will make a pretty plot of an sklearn Confusion Matrix cm using a Seaborn heatmap visualization.\n",
    "    Arguments\n",
    "    ---------\n",
    "    cf:            confusion matrix to be passed in\n",
    "    group_names:   List of strings that represent the labels row by row to be shown in each square.\n",
    "    categories:    List of strings containing the categories to be displayed on the x,y axis. Default is 'auto'\n",
    "    count:         If True, show the raw number in the confusion matrix. Default is True.\n",
    "    normalize:     If True, show the proportions for each category. Default is True.\n",
    "    cbar:          If True, show the color bar. The cbar values are based off the values in the confusion matrix.\n",
    "                   Default is True.\n",
    "    xyticks:       If True, show x and y ticks. Default is True.\n",
    "    xyplotlabels:  If True, show 'True Label' and 'Predicted Label' on the figure. Default is True.\n",
    "    sum_stats:     If True, display summary statistics below the figure. Default is True.\n",
    "    figsize:       Tuple representing the figure size. Default will be the matplotlib rcParams value.\n",
    "    cmap:          Colormap of the values displayed from matplotlib.pyplot.cm. Default is 'Blues'\n",
    "                   See http://matplotlib.org/examples/color/colormaps_reference.html\n",
    "                   \n",
    "    title:         Title for the heatmap. Default is None.\n",
    "    '''\n",
    "\n",
    "    # CODE TO GENERATE TEXT INSIDE EACH SQUARE\n",
    "    blanks = ['' for i in range(cf.size)]\n",
    "\n",
    "    if group_names and len(group_names)==cf.size:\n",
    "        group_labels = [\"{}\\n\".format(value) for value in group_names]\n",
    "    else:\n",
    "        group_labels = blanks\n",
    "\n",
    "    if count:\n",
    "        group_counts = [\"{0:0.0f}\\n\".format(value) for value in cf.flatten()]\n",
    "    else:\n",
    "        group_counts = blanks\n",
    "\n",
    "    if percent:\n",
    "        group_percentages = [\"{0:.2%}\".format(value) for value in cf.flatten()/np.sum(cf)]\n",
    "    else:\n",
    "        group_percentages = blanks\n",
    "\n",
    "    box_labels = [f\"{v1}{v2}{v3}\".strip() for v1, v2, v3 in zip(group_labels,group_counts,group_percentages)]\n",
    "    box_labels = np.asarray(box_labels).reshape(cf.shape[0],cf.shape[1])\n",
    "\n",
    "\n",
    "    # CODE TO GENERATE SUMMARY STATISTICS & TEXT FOR SUMMARY STATS\n",
    "    if sum_stats:\n",
    "        #Accuracy is sum of diagonal divided by total observations\n",
    "        accuracy  = np.trace(cf) / float(np.sum(cf))\n",
    "\n",
    "        #if it is a binary confusion matrix, show some more stats\n",
    "        if len(cf)==2:\n",
    "            #Metrics for Binary Confusion Matrices\n",
    "            precision = cf[1,1] / sum(cf[:,1])\n",
    "            recall    = cf[1,1] / sum(cf[1,:])\n",
    "            f1_score  = 2*precision*recall / (precision + recall)\n",
    "            stats_text = \"\\n\\nAccuracy={:0.3f}\\nPrecision={:0.3f}\\nRecall={:0.3f}\\nF1 Score={:0.3f}\".format(\n",
    "                accuracy,precision,recall,f1_score)\n",
    "        else:\n",
    "            stats_text = \"\\n\\nAccuracy={:0.3f}\".format(accuracy)\n",
    "    else:\n",
    "        stats_text = \"\"\n",
    "\n",
    "\n",
    "    # SET FIGURE PARAMETERS ACCORDING TO OTHER ARGUMENTS\n",
    "    if figsize==None:\n",
    "        #Get default figure size if not set\n",
    "        figsize = plt.rcParams.get('figure.figsize')\n",
    "\n",
    "    if xyticks==False:\n",
    "        #Do not show categories if xyticks is False\n",
    "        categories=False\n",
    "\n",
    "\n",
    "    # MAKE THE HEATMAP VISUALIZATION\n",
    "    plt.figure(figsize=figsize)\n",
    "    sns.heatmap(cf,annot=box_labels,fmt=\"\",cmap=cmap,cbar=cbar,xticklabels=categories,yticklabels=categories)\n",
    "\n",
    "    if xyplotlabels:\n",
    "        plt.ylabel('True label')\n",
    "        plt.xlabel('Predicted label' + stats_text)\n",
    "    else:\n",
    "        plt.xlabel(stats_text)\n",
    "    \n",
    "    if title:\n",
    "        plt.title(title)"
   ]
  },
  {
   "cell_type": "code",
   "execution_count": null,
   "metadata": {},
   "outputs": [],
   "source": [
    "\n",
    "\n",
    "cm = metrics.confusion_matrix(test_labels_1d, prediction)\n",
    "\n",
    "make_confusion_matrix(cm, figsize=(8,6), cbar=False)"
   ]
  },
  {
   "cell_type": "code",
   "execution_count": null,
   "metadata": {},
   "outputs": [],
   "source": [
    "print(metrics.classification_report(test_labels_1d, prediction, digits=3))"
   ]
  },
  {
   "cell_type": "markdown",
   "metadata": {},
   "source": [
    "#### Visualizing model data"
   ]
  },
  {
   "cell_type": "code",
   "execution_count": null,
   "metadata": {},
   "outputs": [],
   "source": []
  },
  {
   "cell_type": "code",
   "execution_count": null,
   "metadata": {},
   "outputs": [],
   "source": []
  },
  {
   "cell_type": "code",
   "execution_count": null,
   "metadata": {
    "scrolled": false
   },
   "outputs": [],
   "source": []
  },
  {
   "cell_type": "code",
   "execution_count": null,
   "metadata": {},
   "outputs": [],
   "source": []
  }
 ],
 "metadata": {
  "kernelspec": {
   "display_name": "Python 3",
   "language": "python",
   "name": "python3"
  },
  "language_info": {
   "codemirror_mode": {
    "name": "ipython",
    "version": 3
   },
   "file_extension": ".py",
   "mimetype": "text/x-python",
   "name": "python",
   "nbconvert_exporter": "python",
   "pygments_lexer": "ipython3",
   "version": "3.7.7"
  }
 },
 "nbformat": 4,
 "nbformat_minor": 4
}
