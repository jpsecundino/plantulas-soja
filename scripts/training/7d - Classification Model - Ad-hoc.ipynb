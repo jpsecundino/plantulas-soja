{
 "cells": [
  {
   "cell_type": "markdown",
   "metadata": {},
   "source": [
    "# Creating dataset"
   ]
  },
  {
   "cell_type": "markdown",
   "metadata": {},
   "source": [
    "# Creating classification model"
   ]
  },
  {
   "cell_type": "code",
   "execution_count": 1,
   "metadata": {},
   "outputs": [
    {
     "name": "stderr",
     "output_type": "stream",
     "text": [
      "Using TensorFlow backend.\n"
     ]
    }
   ],
   "source": [
    "import os\n",
    "import pickle\n",
    "import numpy as np\n",
    "import os\n",
    "import seaborn as sns\n",
    "import pandas as pd\n",
    "import matplotlib.pyplot as plt\n",
    "from sklearn import metrics\n",
    "import tensorflow as tf\n",
    "from tensorflow.keras.models import Sequential\n",
    "from tensorflow.keras.layers import Dense, Dropout, Activation, Flatten, Conv2D, MaxPooling2D\n",
    "import keras\n",
    "import shutil\n",
    "os.environ['TF_FORCE_GPU_ALLOW_GROWTH'] = 'true'"
   ]
  },
  {
   "cell_type": "code",
   "execution_count": 2,
   "metadata": {},
   "outputs": [],
   "source": [
    "DATASET_PATH = '../../datasets/Classification/Dataset - 7 dias'\n",
    "CATEGORIES = [\"Normal\", \"Anormal\", \"Morta\"]"
   ]
  },
  {
   "cell_type": "markdown",
   "metadata": {},
   "source": [
    "##### Read dataset"
   ]
  },
  {
   "cell_type": "code",
   "execution_count": 3,
   "metadata": {},
   "outputs": [],
   "source": [
    "IMG_SIZE = 256\n",
    "NUM_CLASSES = 3\n",
    "def read_dataset():\n",
    "    images_raw = open(os.path.join(DATASET_PATH, \"7_days_images.pickle\" ), \"rb\")\n",
    "    images = pickle.load(images_raw)\n",
    "\n",
    "    labels_raw = open(os.path.join(DATASET_PATH, \"7_days_labels.pickle\" ), \"rb\")\n",
    "    labels = pickle.load(labels_raw)\n",
    "\n",
    "    images = np.array(images)\n",
    "    labels = np.array(labels)\n",
    "    \n",
    "    return images, labels"
   ]
  },
  {
   "cell_type": "markdown",
   "metadata": {},
   "source": [
    "###### Turn it into a binary classification problem"
   ]
  },
  {
   "cell_type": "code",
   "execution_count": 4,
   "metadata": {},
   "outputs": [],
   "source": [
    "def to_binary(labels):\n",
    "    labels[labels == 2] = 1\n",
    "    return labels\n",
    "    "
   ]
  },
  {
   "cell_type": "markdown",
   "metadata": {},
   "source": [
    "###### Train Test split"
   ]
  },
  {
   "cell_type": "code",
   "execution_count": 5,
   "metadata": {},
   "outputs": [],
   "source": [
    "def count_samples(train_labels, test_labels):\n",
    "    print(\"In training:\")\n",
    "    for i in range(0,NUM_CLASSES):\n",
    "        print(f'Class {i}: {round(100 * np.count_nonzero(np.array(train_labels) == i) / len(train_labels), 2)}%')\n",
    "    print(\"In test:\")\n",
    "    for i in range(0,NUM_CLASSES):\n",
    "        print(f'Class {i}: {round(100 * np.count_nonzero(np.array(test_labels) == i) / len(test_labels), 2)}%')\n",
    "\n",
    "\n",
    "def train_test_split(images, labels):\n",
    "\n",
    "    from sklearn.model_selection import train_test_split\n",
    "\n",
    "    train_images, test_images, train_labels, test_labels = train_test_split(images, labels, test_size=0.1, stratify=labels)\n",
    "    \n",
    "    print(\"In training:\")\n",
    "    for i in range(0,len(np.unique(labels))):\n",
    "        print(f'Class {i}: {round(100 * np.count_nonzero(np.array(train_labels) == i) / len(train_labels), 2)}%')\n",
    "    print(\"In test:\")\n",
    "    for i in range(0,len(np.unique(labels))):\n",
    "        print(f'Class {i}: {round(100 * np.count_nonzero(np.array(test_labels) == i) / len(test_labels), 2)}%')\n",
    "        \n",
    "    return train_images, test_images, train_labels, test_labels"
   ]
  },
  {
   "cell_type": "markdown",
   "metadata": {},
   "source": [
    "#### Ajustando o dataset desbalanceado"
   ]
  },
  {
   "cell_type": "markdown",
   "metadata": {},
   "source": [
    "###### Data augmentation -> data generator"
   ]
  },
  {
   "cell_type": "code",
   "execution_count": 6,
   "metadata": {},
   "outputs": [],
   "source": [
    "# data augmentation with ImageDataGenerator -> did not go well\n",
    "# from keras.preprocessing.image import ImageDataGenerator\n",
    "# datagen = ImageDataGenerator(\n",
    "#     featurewise_center=True,\n",
    "#     featurewise_std_normalization=False,\n",
    "#     rotation_range=20,\n",
    "#     width_shift_range=0.2,\n",
    "#     height_shift_range=0.2,\n",
    "#     horizontal_flip=True,\n",
    "#     validation_split=0.25\n",
    "# )\n",
    "# datagen.fit(train_images)\n",
    "\n",
    "# # it = datagen.flow(train_images, batch_size=1, save_to_dir=\"test\", shuffle= True)\n",
    "\n",
    "# # # generate samples and plot\n",
    "# # for i in range(50):\n",
    "# #      # generate batch of images\n",
    "# #     batch = it.next()\n",
    "# #     # convert to unsigned integers for viewing\n",
    "# #     image = batch[0].astype('uint8')\n",
    "# #     # plot raw pixel data\n",
    "# #     plt.imshow(image, cmap=\"gray\")\n",
    "# #     plt.show()\n",
    "# # show the figure"
   ]
  },
  {
   "cell_type": "markdown",
   "metadata": {},
   "source": [
    "###### Weighted Classes "
   ]
  },
  {
   "cell_type": "code",
   "execution_count": 7,
   "metadata": {},
   "outputs": [],
   "source": [
    "# Trying class weights\n",
    "# it does not work with one hot encoded data\n",
    "# from sklearn.utils import class_weight\n",
    "# class_weights = class_weight.compute_class_weight('balanced',\n",
    "#                                                  np.unique(train_labels),\n",
    "#                                                  train_labels)\n",
    "\n",
    "def get_sample_weights(train_labels):\n",
    "    from sklearn.utils import compute_sample_weight\n",
    "    \n",
    "    return compute_sample_weight('balanced', train_labels)  #->>>> remember to add the weights in model.fit"
   ]
  },
  {
   "cell_type": "markdown",
   "metadata": {},
   "source": [
    "###### SMOTE"
   ]
  },
  {
   "cell_type": "code",
   "execution_count": 8,
   "metadata": {},
   "outputs": [],
   "source": [
    "# classes, counts = np.unique(train_labels, return_counts=True)\n",
    "# print(f\"The number of elements for each class in training now are\\nClass 0: {counts[0]}\\nClass 1 {counts[1]}\\nClass 2 {counts[2]}\\n\")"
   ]
  },
  {
   "cell_type": "code",
   "execution_count": 9,
   "metadata": {},
   "outputs": [],
   "source": [
    "# from imblearn.over_sampling import SMOTE\n",
    "# sm = SMOTE(random_state=42)\n",
    "\n",
    "# train_images_shape = train_images.shape\n",
    "# train_images = train_images.reshape((train_images_shape[0], IMG_SIZE * IMG_SIZE * 3))\n",
    "# train_images, train_labels = sm.fit_resample(train_images, train_labels)\n"
   ]
  },
  {
   "cell_type": "code",
   "execution_count": 10,
   "metadata": {},
   "outputs": [],
   "source": [
    "# train_images_shape = train_images.shape\n",
    "# train_images = train_images.reshape((train_images_shape[0], IMG_SIZE, IMG_SIZE, 3))\n"
   ]
  },
  {
   "cell_type": "code",
   "execution_count": 11,
   "metadata": {},
   "outputs": [],
   "source": [
    "# classes, counts = np.unique(train_labels, return_counts=True)\n",
    "# print(f\"The number of elements for each class in training now are\\nClass 0: {counts[0]}\\nClass 1 {counts[1]}\\nClass 2 {counts[2]}\\n\")"
   ]
  },
  {
   "cell_type": "markdown",
   "metadata": {},
   "source": [
    "##### One hot label encoding"
   ]
  },
  {
   "cell_type": "code",
   "execution_count": 12,
   "metadata": {},
   "outputs": [],
   "source": [
    "def to_one_hot(data):\n",
    "    import pandas as pd\n",
    "    data = pd.get_dummies(data)\n",
    "    data = pd.DataFrame.to_numpy(data)\n",
    "    return data"
   ]
  },
  {
   "cell_type": "markdown",
   "metadata": {},
   "source": [
    "##### Normalizing training images"
   ]
  },
  {
   "cell_type": "code",
   "execution_count": 13,
   "metadata": {},
   "outputs": [],
   "source": [
    "def normalize_images(data):\n",
    "    data = tf.keras.utils.normalize(data, axis=0, order=2)\n",
    "    return data"
   ]
  },
  {
   "cell_type": "markdown",
   "metadata": {},
   "source": [
    "### Creating the model\n"
   ]
  },
  {
   "cell_type": "code",
   "execution_count": 14,
   "metadata": {},
   "outputs": [],
   "source": [
    "EPOCHS = None\n",
    "TRAIN_TEST_SPLIT = None\n",
    "BATCH_SIZE = None\n",
    "# print((1 - TRAIN_TEST_SPLIT) * train_images.shape[0],BATCH_SIZE)\n",
    "\n",
    "METRICDIR = '../metricas/classificacao/7_d/tests-binary'\n",
    "\n",
    "MODELDIR = os.path.join(METRICDIR, \"adhoc\")\n",
    "\n",
    "CHECKPOINT_DIR = os.path.join(MODELDIR, \"models\") \n",
    "\n",
    "if os.path.exists(MODELDIR):\n",
    "    shutil.rmtree(MODELDIR)\n",
    "    os.makedirs(CHECKPOINT_DIR)\n",
    "    \n",
    "my_metrics = [\"accuracy\",\n",
    "       tf.keras.metrics.Precision(),\n",
    "       tf.keras.metrics.Recall(),\n",
    "       tf.keras.metrics.AUC(),\n",
    "       tf.keras.metrics.TruePositives(),\n",
    "       tf.keras.metrics.TrueNegatives(),\n",
    "       tf.keras.metrics.FalsePositives(),\n",
    "       tf.keras.metrics.FalseNegatives(),]"
   ]
  },
  {
   "cell_type": "code",
   "execution_count": 15,
   "metadata": {},
   "outputs": [],
   "source": [
    "def create_model():\n",
    "       \n",
    "    model = Sequential()\n",
    "\n",
    "    model.add(   Conv2D(8, (3,3), input_shape=(IMG_SIZE,IMG_SIZE, 3))  )\n",
    "    model.add(Dropout(rate=0.3))\n",
    "    model.add(Activation(\"relu\"))\n",
    "\n",
    "    model.add(Conv2D(6, (3,3)))\n",
    "    model.add(Dropout(rate=0.3))\n",
    "    model.add(Activation(\"relu\"))\n",
    "    \n",
    "    model.add(Conv2D(2, (3,3)))\n",
    "    model.add(Dropout(rate=0.4))\n",
    "    model.add(Activation(\"relu\"))\n",
    "    \n",
    "    model.add(Flatten())\n",
    "    model.add(Dense(3))\n",
    "    \n",
    "    model.add(Activation(\"sigmoid\"))\n",
    "    \n",
    "    opt = tf.keras.optimizers.Adam()\n",
    "    model.compile(loss=\"categorical_crossentropy\", optimizer=opt, metrics=my_metrics)\n",
    "    \n",
    "    return model\n",
    "\n",
    "def get_model_name(k):\n",
    "    return 'model_'+str(k)\n",
    "\n",
    "def plot_metric(history,metric_name, chart_name, save_dir, save = False, show = False):\n",
    "    plt.cla() \n",
    "    plt.plot(history.history[metric_name], label = metric_name + ' (training data)')\n",
    "    plt.plot(history.history['val_' + metric_name], label = metric_name + ' (validation data)')\n",
    "    plt.title(chart_name)\n",
    "    plt.ylabel( metric_name + ' value')\n",
    "    plt.xlabel('No. epoch')\n",
    "    plt.legend(loc=\"upper left\")\n",
    "    if save:\n",
    "        plt.savefig(os.path.join(save_dir, metric_name))\n",
    "    if show:\n",
    "        plt.show()\n",
    "        \n",
    "def plot_cm(cf_matrix, save_dir, save):\n",
    "    \n",
    "    import seaborn as sns; sns.set_theme()\n",
    "   \n",
    "    group_names = ['True Pos','False Pos','False Neg','True Neg']\n",
    "    group_counts = [\"{0:0.0f}\".format(value) for value in\n",
    "                    cf_matrix.flatten()]\n",
    "    group_percentages = [\"{0:.2%}\".format(value) for value in\n",
    "                         cf_matrix.flatten()/np.sum(cf_matrix)]\n",
    "    labels = [f\"{v1}\\n{v2}\\n{v3}\" for v1, v2, v3 in\n",
    "              zip(group_names,group_counts,group_percentages)]\n",
    "    labels = np.asarray(labels).reshape(2,2)\n",
    "    \n",
    "    plt.cla() \n",
    "    \n",
    "    sns.heatmap(cf_matrix, annot=labels, fmt='', cmap='Blues')\n",
    "    if save:\n",
    "        plt.savefig(os.path.join(save_dir, \"confusion matrix\"))\n",
    "    plt.show()"
   ]
  },
  {
   "cell_type": "markdown",
   "metadata": {},
   "source": [
    "##### Testing the model"
   ]
  },
  {
   "cell_type": "code",
   "execution_count": 16,
   "metadata": {},
   "outputs": [],
   "source": [
    "def one_hot_to_1d(test_labels):\n",
    "    \n",
    "    test_labels_1d = []\n",
    "    \n",
    "    for label in test_labels:\n",
    "        print()\n",
    "        if (label == [1, 0]).all():\n",
    "            test_labels_1d.append(0)\n",
    "        elif (label == [0, 1]).all():\n",
    "            test_labels_1d.append(1)\n",
    "        else:\n",
    "            test_labels_1d.append(2)\n",
    "    \n",
    "    return test_labels_1d\n",
    "    \n",
    "def get_predictions(model,test_images, test_labels):\n",
    "    prediction = model.predict(test_images, batch_size=1)\n",
    "\n",
    "    return tf.argmax(prediction, axis=-1)"
   ]
  },
  {
   "cell_type": "code",
   "execution_count": 17,
   "metadata": {
    "scrolled": true
   },
   "outputs": [],
   "source": [
    "def train_models(train_images, train_labels, num_folds=10):\n",
    "    \n",
    "    from sklearn.model_selection import StratifiedKFold\n",
    "    \n",
    "    kfold = StratifiedKFold(n_splits=num_folds)\n",
    "\n",
    "    #metrics containers\n",
    "    acc = []\n",
    "    prec = []\n",
    "    rec = []\n",
    "    auc = []\n",
    "\n",
    "    # K-fold Cross Validation model evaluation\n",
    "    fold_no = 1\n",
    "    for train, test in kfold.split(train_images, train_labels):\n",
    "\n",
    "        count_samples(train_labels[train], train_labels[test])\n",
    "        \n",
    "#         from tf.keras.callbacks import ModelCheckpoint, ReduceLROnPlateau, EarlyStopping\n",
    "\n",
    "        if fold_no - 1 == 0:\n",
    "            idx_str = \"\"\n",
    "        else:\n",
    "            idx_str = f\"_{fold_no}\"\n",
    "            \n",
    "        fold_checkpoint_dir = os.path.join(CHECKPOINT_DIR, get_model_name(fold_no))\n",
    "        \n",
    "        if not os.path.exists(fold_checkpoint_dir):\n",
    "            os.makedirs(fold_checkpoint_dir)\n",
    "        \n",
    "#         my_callbacks = [\n",
    "# #             ModelCheckpoint(os.path.join(fold_checkpoint_dir,\"model.h5\"), monitor=f\"val_precision\", verbose=1, save_best_only=True, mode='max', save_freq='epoch'),\n",
    "#             ReduceLROnPlateau(monitor=f'loss', factor=0.7, patience=2, min_lr=0.00000000001, mode='min'),\n",
    "#         ]\n",
    "\n",
    "        model = create_model()\n",
    "\n",
    "        # Generate a print\n",
    "        print('------------------------------------------------------------------------', end=\"\\n\\n\")\n",
    "        print(f'Training for fold {fold_no} ...')\n",
    "\n",
    "#         # Fit data to model\n",
    "#         history = model.fit(\n",
    "#             train_images[train],\n",
    "#             train_labels[train],\n",
    "#             batch_size = BATCH_SIZE,\n",
    "#             epochs = EPOCHS,\n",
    "#             validation_split=TRAIN_TEST_SPLIT,\n",
    "#             sample_weight=get_sample_weights(train_labels[train]),\n",
    "#             callbacks=[my_callbacks])\n",
    "        # Fit data to model\n",
    "        history = model.fit(\n",
    "            train_images[train],\n",
    "            keras.utils.to_categorical(train_labels[train]),\n",
    "            batch_size = BATCH_SIZE,\n",
    "            epochs = EPOCHS,\n",
    "            validation_split=TRAIN_TEST_SPLIT,\n",
    "            sample_weight=get_sample_weights(train_labels[train]))\n",
    "        \n",
    "        thresh = 0.5\n",
    "        \n",
    "        prediction = model.predict(train_images[test], batch_size=1)\n",
    "        prediction[prediction > thresh] = 1\n",
    "        prediction[prediction <= thresh] = 0\n",
    "        \n",
    "        cm = metrics.confusion_matrix(train_labels[test],prediction )\n",
    "        \n",
    "        plot_cm(cm, save_dir=fold_checkpoint_dir, save=True)\n",
    "        \n",
    "        #visualizing training\n",
    "        NUM_METRICS = len(my_metrics) + 1\n",
    "        for metric in list(history.history.keys())[:NUM_METRICS]:\n",
    "            plot_metric(history, metric, metric + \" for soybean classification\", save_dir=fold_checkpoint_dir, save=True)\n",
    "\n",
    "        # Generate generalization metrics\n",
    "        scores = model.evaluate(train_images[test], train_labels[test], verbose=0)\n",
    "        print(f'Scores for fold {fold_no}:')\n",
    "        for i in range(len(my_metrics)):   \n",
    "            print(f'{model.metrics_names[i]} of {scores[i]}')\n",
    "\n",
    "        acc.append(scores[1])\n",
    "        prec.append(scores[2])\n",
    "        rec.append(scores[3])\n",
    "        auc.append(scores[4])\n",
    "\n",
    "        # Increase fold number\n",
    "        fold_no = fold_no + 1\n",
    "        \n",
    "    return acc, prec, rec, auc"
   ]
  },
  {
   "cell_type": "markdown",
   "metadata": {},
   "source": [
    "##### Training"
   ]
  },
  {
   "cell_type": "code",
   "execution_count": 18,
   "metadata": {},
   "outputs": [],
   "source": [
    "images, labels = read_dataset()\n",
    "\n",
    "images = normalize_images(images)\n",
    "labels = to_binary(labels)"
   ]
  },
  {
   "cell_type": "code",
   "execution_count": 20,
   "metadata": {
    "scrolled": true
   },
   "outputs": [
    {
     "name": "stdout",
     "output_type": "stream",
     "text": [
      "In training:\n",
      "Class 0: 78.97%\n",
      "Class 1: 21.03%\n",
      "Class 2: 0.0%\n",
      "In test:\n",
      "Class 0: 78.99%\n",
      "Class 1: 21.01%\n",
      "Class 2: 0.0%\n",
      "------------------------------------------------------------------------\n",
      "\n",
      "Training for fold 1 ...\n"
     ]
    },
    {
     "ename": "ValueError",
     "evalue": "A target array with shape (1065, 2) was passed for an output of shape (None, 3) while using as loss `categorical_crossentropy`. This loss expects targets to have the same shape as the output.",
     "output_type": "error",
     "traceback": [
      "\u001b[1;31m---------------------------------------------------------------------------\u001b[0m",
      "\u001b[1;31mValueError\u001b[0m                                Traceback (most recent call last)",
      "\u001b[1;32m<ipython-input-20-f068d381bfe6>\u001b[0m in \u001b[0;36m<module>\u001b[1;34m\u001b[0m\n\u001b[0;32m      2\u001b[0m \u001b[0mTRAIN_TEST_SPLIT\u001b[0m \u001b[1;33m=\u001b[0m \u001b[1;36m0.25\u001b[0m\u001b[1;33m\u001b[0m\u001b[1;33m\u001b[0m\u001b[0m\n\u001b[0;32m      3\u001b[0m \u001b[0mBATCH_SIZE\u001b[0m \u001b[1;33m=\u001b[0m \u001b[1;36m32\u001b[0m\u001b[1;33m\u001b[0m\u001b[1;33m\u001b[0m\u001b[0m\n\u001b[1;32m----> 4\u001b[1;33m \u001b[0macc\u001b[0m\u001b[1;33m,\u001b[0m \u001b[0mprec\u001b[0m\u001b[1;33m,\u001b[0m \u001b[0mrec\u001b[0m\u001b[1;33m,\u001b[0m \u001b[0mauc\u001b[0m \u001b[1;33m=\u001b[0m \u001b[0mtrain_models\u001b[0m\u001b[1;33m(\u001b[0m\u001b[0mimages\u001b[0m\u001b[1;33m,\u001b[0m \u001b[0mlabels\u001b[0m\u001b[1;33m)\u001b[0m\u001b[1;33m\u001b[0m\u001b[1;33m\u001b[0m\u001b[0m\n\u001b[0m",
      "\u001b[1;32m<ipython-input-17-398661fb485f>\u001b[0m in \u001b[0;36mtrain_models\u001b[1;34m(train_images, train_labels, num_folds)\u001b[0m\n\u001b[0;32m     56\u001b[0m             \u001b[0mepochs\u001b[0m \u001b[1;33m=\u001b[0m \u001b[0mEPOCHS\u001b[0m\u001b[1;33m,\u001b[0m\u001b[1;33m\u001b[0m\u001b[1;33m\u001b[0m\u001b[0m\n\u001b[0;32m     57\u001b[0m             \u001b[0mvalidation_split\u001b[0m\u001b[1;33m=\u001b[0m\u001b[0mTRAIN_TEST_SPLIT\u001b[0m\u001b[1;33m,\u001b[0m\u001b[1;33m\u001b[0m\u001b[1;33m\u001b[0m\u001b[0m\n\u001b[1;32m---> 58\u001b[1;33m             sample_weight=get_sample_weights(train_labels[train]))\n\u001b[0m\u001b[0;32m     59\u001b[0m \u001b[1;33m\u001b[0m\u001b[0m\n\u001b[0;32m     60\u001b[0m         \u001b[0mthresh\u001b[0m \u001b[1;33m=\u001b[0m \u001b[1;36m0.5\u001b[0m\u001b[1;33m\u001b[0m\u001b[1;33m\u001b[0m\u001b[0m\n",
      "\u001b[1;32m~\\anaconda3\\envs\\keras-gpu\\lib\\site-packages\\tensorflow_core\\python\\keras\\engine\\training.py\u001b[0m in \u001b[0;36mfit\u001b[1;34m(self, x, y, batch_size, epochs, verbose, callbacks, validation_split, validation_data, shuffle, class_weight, sample_weight, initial_epoch, steps_per_epoch, validation_steps, validation_freq, max_queue_size, workers, use_multiprocessing, **kwargs)\u001b[0m\n\u001b[0;32m    817\u001b[0m         \u001b[0mmax_queue_size\u001b[0m\u001b[1;33m=\u001b[0m\u001b[0mmax_queue_size\u001b[0m\u001b[1;33m,\u001b[0m\u001b[1;33m\u001b[0m\u001b[1;33m\u001b[0m\u001b[0m\n\u001b[0;32m    818\u001b[0m         \u001b[0mworkers\u001b[0m\u001b[1;33m=\u001b[0m\u001b[0mworkers\u001b[0m\u001b[1;33m,\u001b[0m\u001b[1;33m\u001b[0m\u001b[1;33m\u001b[0m\u001b[0m\n\u001b[1;32m--> 819\u001b[1;33m         use_multiprocessing=use_multiprocessing)\n\u001b[0m\u001b[0;32m    820\u001b[0m \u001b[1;33m\u001b[0m\u001b[0m\n\u001b[0;32m    821\u001b[0m   def evaluate(self,\n",
      "\u001b[1;32m~\\anaconda3\\envs\\keras-gpu\\lib\\site-packages\\tensorflow_core\\python\\keras\\engine\\training_v2.py\u001b[0m in \u001b[0;36mfit\u001b[1;34m(self, model, x, y, batch_size, epochs, verbose, callbacks, validation_split, validation_data, shuffle, class_weight, sample_weight, initial_epoch, steps_per_epoch, validation_steps, validation_freq, max_queue_size, workers, use_multiprocessing, **kwargs)\u001b[0m\n\u001b[0;32m    233\u001b[0m           \u001b[0mmax_queue_size\u001b[0m\u001b[1;33m=\u001b[0m\u001b[0mmax_queue_size\u001b[0m\u001b[1;33m,\u001b[0m\u001b[1;33m\u001b[0m\u001b[1;33m\u001b[0m\u001b[0m\n\u001b[0;32m    234\u001b[0m           \u001b[0mworkers\u001b[0m\u001b[1;33m=\u001b[0m\u001b[0mworkers\u001b[0m\u001b[1;33m,\u001b[0m\u001b[1;33m\u001b[0m\u001b[1;33m\u001b[0m\u001b[0m\n\u001b[1;32m--> 235\u001b[1;33m           use_multiprocessing=use_multiprocessing)\n\u001b[0m\u001b[0;32m    236\u001b[0m \u001b[1;33m\u001b[0m\u001b[0m\n\u001b[0;32m    237\u001b[0m       \u001b[0mtotal_samples\u001b[0m \u001b[1;33m=\u001b[0m \u001b[0m_get_total_number_of_samples\u001b[0m\u001b[1;33m(\u001b[0m\u001b[0mtraining_data_adapter\u001b[0m\u001b[1;33m)\u001b[0m\u001b[1;33m\u001b[0m\u001b[1;33m\u001b[0m\u001b[0m\n",
      "\u001b[1;32m~\\anaconda3\\envs\\keras-gpu\\lib\\site-packages\\tensorflow_core\\python\\keras\\engine\\training_v2.py\u001b[0m in \u001b[0;36m_process_training_inputs\u001b[1;34m(model, x, y, batch_size, epochs, sample_weights, class_weights, steps_per_epoch, validation_split, validation_data, validation_steps, shuffle, distribution_strategy, max_queue_size, workers, use_multiprocessing)\u001b[0m\n\u001b[0;32m    550\u001b[0m         \u001b[0mbatch_size\u001b[0m\u001b[1;33m=\u001b[0m\u001b[0mbatch_size\u001b[0m\u001b[1;33m,\u001b[0m\u001b[1;33m\u001b[0m\u001b[1;33m\u001b[0m\u001b[0m\n\u001b[0;32m    551\u001b[0m         \u001b[0mcheck_steps\u001b[0m\u001b[1;33m=\u001b[0m\u001b[1;32mFalse\u001b[0m\u001b[1;33m,\u001b[0m\u001b[1;33m\u001b[0m\u001b[1;33m\u001b[0m\u001b[0m\n\u001b[1;32m--> 552\u001b[1;33m         steps=steps_per_epoch)\n\u001b[0m\u001b[0;32m    553\u001b[0m     (x, y, sample_weights,\n\u001b[0;32m    554\u001b[0m      \u001b[0mval_x\u001b[0m\u001b[1;33m,\u001b[0m \u001b[0mval_y\u001b[0m\u001b[1;33m,\u001b[0m\u001b[1;33m\u001b[0m\u001b[1;33m\u001b[0m\u001b[0m\n",
      "\u001b[1;32m~\\anaconda3\\envs\\keras-gpu\\lib\\site-packages\\tensorflow_core\\python\\keras\\engine\\training.py\u001b[0m in \u001b[0;36m_standardize_user_data\u001b[1;34m(self, x, y, sample_weight, class_weight, batch_size, check_steps, steps_name, steps, validation_split, shuffle, extract_tensors_from_dataset)\u001b[0m\n\u001b[0;32m   2381\u001b[0m         \u001b[0mis_dataset\u001b[0m\u001b[1;33m=\u001b[0m\u001b[0mis_dataset\u001b[0m\u001b[1;33m,\u001b[0m\u001b[1;33m\u001b[0m\u001b[1;33m\u001b[0m\u001b[0m\n\u001b[0;32m   2382\u001b[0m         \u001b[0mclass_weight\u001b[0m\u001b[1;33m=\u001b[0m\u001b[0mclass_weight\u001b[0m\u001b[1;33m,\u001b[0m\u001b[1;33m\u001b[0m\u001b[1;33m\u001b[0m\u001b[0m\n\u001b[1;32m-> 2383\u001b[1;33m         batch_size=batch_size)\n\u001b[0m\u001b[0;32m   2384\u001b[0m \u001b[1;33m\u001b[0m\u001b[0m\n\u001b[0;32m   2385\u001b[0m   def _standardize_tensors(self, x, y, sample_weight, run_eagerly, dict_inputs,\n",
      "\u001b[1;32m~\\anaconda3\\envs\\keras-gpu\\lib\\site-packages\\tensorflow_core\\python\\keras\\engine\\training.py\u001b[0m in \u001b[0;36m_standardize_tensors\u001b[1;34m(self, x, y, sample_weight, run_eagerly, dict_inputs, is_dataset, class_weight, batch_size)\u001b[0m\n\u001b[0;32m   2487\u001b[0m           \u001b[1;31m# Additional checks to avoid users mistakenly using improper loss fns.\u001b[0m\u001b[1;33m\u001b[0m\u001b[1;33m\u001b[0m\u001b[1;33m\u001b[0m\u001b[0m\n\u001b[0;32m   2488\u001b[0m           training_utils.check_loss_and_target_compatibility(\n\u001b[1;32m-> 2489\u001b[1;33m               y, self._feed_loss_fns, feed_output_shapes)\n\u001b[0m\u001b[0;32m   2490\u001b[0m \u001b[1;33m\u001b[0m\u001b[0m\n\u001b[0;32m   2491\u001b[0m       sample_weights, _, _ = training_utils.handle_partial_sample_weights(\n",
      "\u001b[1;32m~\\anaconda3\\envs\\keras-gpu\\lib\\site-packages\\tensorflow_core\\python\\keras\\engine\\training_utils.py\u001b[0m in \u001b[0;36mcheck_loss_and_target_compatibility\u001b[1;34m(targets, loss_fns, output_shapes)\u001b[0m\n\u001b[0;32m    808\u001b[0m           raise ValueError('A target array with shape ' + str(y.shape) +\n\u001b[0;32m    809\u001b[0m                            \u001b[1;34m' was passed for an output of shape '\u001b[0m \u001b[1;33m+\u001b[0m \u001b[0mstr\u001b[0m\u001b[1;33m(\u001b[0m\u001b[0mshape\u001b[0m\u001b[1;33m)\u001b[0m \u001b[1;33m+\u001b[0m\u001b[1;33m\u001b[0m\u001b[1;33m\u001b[0m\u001b[0m\n\u001b[1;32m--> 810\u001b[1;33m                            \u001b[1;34m' while using as loss `'\u001b[0m \u001b[1;33m+\u001b[0m \u001b[0mloss_name\u001b[0m \u001b[1;33m+\u001b[0m \u001b[1;34m'`. '\u001b[0m\u001b[1;33m\u001b[0m\u001b[1;33m\u001b[0m\u001b[0m\n\u001b[0m\u001b[0;32m    811\u001b[0m                            \u001b[1;34m'This loss expects targets to have the same shape '\u001b[0m\u001b[1;33m\u001b[0m\u001b[1;33m\u001b[0m\u001b[0m\n\u001b[0;32m    812\u001b[0m                            'as the output.')\n",
      "\u001b[1;31mValueError\u001b[0m: A target array with shape (1065, 2) was passed for an output of shape (None, 3) while using as loss `categorical_crossentropy`. This loss expects targets to have the same shape as the output."
     ]
    }
   ],
   "source": [
    "EPOCHS = 10\n",
    "TRAIN_TEST_SPLIT = 0.25\n",
    "BATCH_SIZE = 32\n",
    "acc, prec, rec, auc = train_models(images, labels)"
   ]
  },
  {
   "cell_type": "code",
   "execution_count": null,
   "metadata": {},
   "outputs": [],
   "source": [
    "print(\"Acurácia média: \",np.mean(acc), np.std(acc))\n",
    "print(\"Precisão média: \",np.mean(prec), np.std(prec))\n",
    "print(\"Recall médio: \",np.mean(rec), np.std(rec))\n",
    "print(\"Auc média: \",np.mean(auc), np.std(auc))"
   ]
  },
  {
   "cell_type": "code",
   "execution_count": null,
   "metadata": {},
   "outputs": [],
   "source": [
    "for model in os.listdir(\"../metricas/classificacao/7_d/tests-binary/adhoc/models\"):\n",
    "    metric_path = os.path.join(\"../metricas/classificacao/7_d/tests-binary/adhoc/models\", model, \"loss.png\")\n",
    "    img = plt.imread(metric_path)\n",
    "    plt.imshow(img)\n",
    "    plt.show()"
   ]
  },
  {
   "cell_type": "code",
   "execution_count": null,
   "metadata": {},
   "outputs": [],
   "source": []
  }
 ],
 "metadata": {
  "kernelspec": {
   "display_name": "Python 3",
   "language": "python",
   "name": "python3"
  },
  "language_info": {
   "codemirror_mode": {
    "name": "ipython",
    "version": 3
   },
   "file_extension": ".py",
   "mimetype": "text/x-python",
   "name": "python",
   "nbconvert_exporter": "python",
   "pygments_lexer": "ipython3",
   "version": "3.6.13"
  }
 },
 "nbformat": 4,
 "nbformat_minor": 4
}
