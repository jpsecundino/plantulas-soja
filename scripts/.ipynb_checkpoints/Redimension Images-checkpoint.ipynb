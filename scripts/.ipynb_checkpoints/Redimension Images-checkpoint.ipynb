{
 "cells": [
  {
   "cell_type": "code",
   "execution_count": 42,
   "metadata": {},
   "outputs": [],
   "source": [
    "import cv2\n",
    "import os\n",
    "\n",
    "images_folder = \"../Images/Cut/7_dias/normais/\"\n",
    "\n",
    "images_paths = []\n",
    "for inner_folder in os.listdir(images_folder):\n",
    "    inner_folder_path = os.path.join(images_folder, inner_folder)\n",
    "    for image in os.listdir(inner_folder_path):\n",
    "        images_paths.append(os.path.join(inner_folder_path, image))\n",
    "\n",
    "\n",
    "for image_path in images_paths:\n",
    "    original = cv2.imread(image_path, cv2.IMREAD_UNCHANGED)\n",
    "\n",
    "    #calculate the 50 percent of original dimensions\n",
    "    width = 512\n",
    "    height = 512\n",
    "\n",
    "    # dsize\n",
    "    dsize = (width, height)\n",
    "\n",
    "    # resize image\n",
    "    output = cv2.resize(original, dsize)\n",
    "\n",
    "    cv2.imwrite(image_path,output) "
   ]
  }
 ],
 "metadata": {
  "kernelspec": {
   "display_name": "Python 3",
   "language": "python",
   "name": "python3"
  },
  "language_info": {
   "codemirror_mode": {
    "name": "ipython",
    "version": 3
   },
   "file_extension": ".py",
   "mimetype": "text/x-python",
   "name": "python",
   "nbconvert_exporter": "python",
   "pygments_lexer": "ipython3",
   "version": "3.8.5"
  }
 },
 "nbformat": 4,
 "nbformat_minor": 4
}
